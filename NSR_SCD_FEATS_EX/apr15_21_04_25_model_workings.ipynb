{
 "cells": [
  {
   "cell_type": "code",
   "execution_count": 1,
   "id": "9785deda-eddf-4d5c-ac58-0f96a368493d",
   "metadata": {},
   "outputs": [],
   "source": [
    "import os, glob, re, itertools, numpy as np, pandas as pd\n",
    "import tensorflow as tf\n",
    "from tensorflow.keras import layers, Model, Input\n",
    "from sklearn.preprocessing import StandardScaler\n",
    "from sklearn.metrics import (accuracy_score, precision_score, recall_score,\n",
    "                             f1_score, roc_auc_score, confusion_matrix)\n",
    "\n",
    "FEATURE_DIR = \"features_csv\"          # folder with all CSVs\n",
    "\n",
    "DEPTH_OPTIONS   = [3, 5, 7, 9]        # dilated‑layer counts\n",
    "LR_OPTIONS      = [1e-1, 1e-2, 1e-3, 1e-4]\n",
    "BATCH_OPTIONS   = [32, 64, 128, 256]\n",
    "\n",
    "DILATION_BASE   = [1, 2, 4, 8, 16, 32, 64]   # will slice to needed depth\n",
    "N_FILTERS       = 64\n",
    "KERNEL_SIZE     = 2\n",
    "DROPOUT_RATE    = 0.5\n",
    "DENSE_UNITS     = 512\n",
    "EPOCHS_SEARCH   = 50\n",
    "VAL_SPLIT       = 0.2                # within first‑segment set"
   ]
  },
  {
   "cell_type": "code",
   "execution_count": null,
   "id": "2cf498df-9735-43bf-8cfc-a3107cdb5146",
   "metadata": {},
   "outputs": [],
   "source": []
  },
  {
   "cell_type": "code",
   "execution_count": null,
   "id": "787557d9-96a8-4afb-a4d6-092e19fae678",
   "metadata": {},
   "outputs": [],
   "source": [
    "def parse_filename(path):\n",
    "    name = os.path.basename(path)\n",
    "    is_scd = name.startswith(\"SCD\")\n",
    "    parts  = name.split('_')\n",
    "    subj   = parts[1]\n",
    "    ordinal = parts[2]                # First…Sixth\n",
    "    order = [\"First\",\"Second\",\"Third\",\"Fourth\",\"Fifth\",\"Sixth\"]\n",
    "    idx = order.index(ordinal)\n",
    "    # SCD order reversed: Sixth→0 … First→5\n",
    "    idx = 5 - idx if is_scd else idx\n",
    "    return int(is_scd), subj, idx"
   ]
  }
 ],
 "metadata": {
  "kernelspec": {
   "display_name": "Python 3 (ipykernel)",
   "language": "python",
   "name": "python3"
  },
  "language_info": {
   "codemirror_mode": {
    "name": "ipython",
    "version": 3
   },
   "file_extension": ".py",
   "mimetype": "text/x-python",
   "name": "python",
   "nbconvert_exporter": "python",
   "pygments_lexer": "ipython3",
   "version": "3.12.8"
  }
 },
 "nbformat": 4,
 "nbformat_minor": 5
}
