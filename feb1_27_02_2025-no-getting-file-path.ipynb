{
 "cells": [
  {
   "cell_type": "code",
   "execution_count": 1,
   "id": "04859fe1-9617-43cd-bfb5-65774027ad98",
   "metadata": {},
   "outputs": [],
   "source": [
    "import os\n",
    "import numpy as np\n",
    "import pandas as pd\n",
    "import matplotlib.pyplot as plt\n",
    "import seaborn as sns\n",
    "\n",
    "from wfdb import rdrecord, processing\n",
    "import pywt\n",
    "\n",
    "import tensorflow as tf\n",
    "from tensorflow.keras import layers, models\n",
    "from tensorflow.keras.callbacks import EarlyStopping, ModelCheckpoint\n",
    "from sklearn.model_selection import train_test_split\n",
    "from sklearn.metrics import confusion_matrix, classification_report\n"
   ]
  },
  {
   "cell_type": "code",
   "execution_count": 2,
   "id": "4c4e6fbf-029b-4cef-9165-fd4f35d07c7e",
   "metadata": {},
   "outputs": [],
   "source": [
    "sns.set_style('whitegrid')\n",
    "np.set_printoptions(precision=3, suppress=True)"
   ]
  },
  {
   "cell_type": "markdown",
   "id": "663b2fd0-1547-4056-8d54-96e82622f801",
   "metadata": {},
   "source": [
    "# List the records"
   ]
  },
  {
   "cell_type": "code",
   "execution_count": 3,
   "id": "e46c232e-4549-4f1e-aeaa-7a17ed3f3d2f",
   "metadata": {},
   "outputs": [],
   "source": [
    "import glob"
   ]
  },
  {
   "cell_type": "code",
   "execution_count": 4,
   "id": "4b811d1e-3898-422c-85e4-19c207a7f864",
   "metadata": {},
   "outputs": [],
   "source": [
    "nsr_files = glob.glob(\"./data/nsrdb/*.hea\")\n",
    "nsr_records = [f[:-4] for f in nsr_files]"
   ]
  },
  {
   "cell_type": "code",
   "execution_count": 6,
   "id": "4ef222c2-5a2b-41ae-827d-2ce30036b25f",
   "metadata": {},
   "outputs": [
    {
     "data": {
      "text/plain": [
       "18"
      ]
     },
     "execution_count": 6,
     "metadata": {},
     "output_type": "execute_result"
    }
   ],
   "source": [
    "len(nsr_records)"
   ]
  },
  {
   "cell_type": "code",
   "execution_count": 7,
   "id": "011cc789-3016-484a-96c9-8fb49acdb91b",
   "metadata": {},
   "outputs": [
    {
     "data": {
      "text/plain": [
       "['./data/nsrdb\\\\16265',\n",
       " './data/nsrdb\\\\16272',\n",
       " './data/nsrdb\\\\16273',\n",
       " './data/nsrdb\\\\16420',\n",
       " './data/nsrdb\\\\16483',\n",
       " './data/nsrdb\\\\16539',\n",
       " './data/nsrdb\\\\16773',\n",
       " './data/nsrdb\\\\16786',\n",
       " './data/nsrdb\\\\16795',\n",
       " './data/nsrdb\\\\17052',\n",
       " './data/nsrdb\\\\17453',\n",
       " './data/nsrdb\\\\18177',\n",
       " './data/nsrdb\\\\18184',\n",
       " './data/nsrdb\\\\19088',\n",
       " './data/nsrdb\\\\19090',\n",
       " './data/nsrdb\\\\19093',\n",
       " './data/nsrdb\\\\19140',\n",
       " './data/nsrdb\\\\19830']"
      ]
     },
     "execution_count": 7,
     "metadata": {},
     "output_type": "execute_result"
    }
   ],
   "source": [
    "nsr_records"
   ]
  },
  {
   "cell_type": "code",
   "execution_count": 8,
   "id": "fef2cb8b-3df3-4f5d-82f0-3663c583128e",
   "metadata": {},
   "outputs": [],
   "source": [
    "nsr_records = [f.replace(\"\\\\\", \"/\")[:-4] for f in nsr_files]"
   ]
  },
  {
   "cell_type": "code",
   "execution_count": 9,
   "id": "66666330-afab-4016-8362-75c52c0f3090",
   "metadata": {},
   "outputs": [
    {
     "data": {
      "text/plain": [
       "['./data/nsrdb/16265',\n",
       " './data/nsrdb/16272',\n",
       " './data/nsrdb/16273',\n",
       " './data/nsrdb/16420',\n",
       " './data/nsrdb/16483',\n",
       " './data/nsrdb/16539',\n",
       " './data/nsrdb/16773',\n",
       " './data/nsrdb/16786',\n",
       " './data/nsrdb/16795',\n",
       " './data/nsrdb/17052',\n",
       " './data/nsrdb/17453',\n",
       " './data/nsrdb/18177',\n",
       " './data/nsrdb/18184',\n",
       " './data/nsrdb/19088',\n",
       " './data/nsrdb/19090',\n",
       " './data/nsrdb/19093',\n",
       " './data/nsrdb/19140',\n",
       " './data/nsrdb/19830']"
      ]
     },
     "execution_count": 9,
     "metadata": {},
     "output_type": "execute_result"
    }
   ],
   "source": [
    "nsr_records"
   ]
  },
  {
   "cell_type": "code",
   "execution_count": null,
   "id": "983f1a84-d954-4438-8207-8360d8aca6ae",
   "metadata": {},
   "outputs": [],
   "source": []
  }
 ],
 "metadata": {
  "kernelspec": {
   "display_name": "Python 3 (ipykernel)",
   "language": "python",
   "name": "python3"
  },
  "language_info": {
   "codemirror_mode": {
    "name": "ipython",
    "version": 3
   },
   "file_extension": ".py",
   "mimetype": "text/x-python",
   "name": "python",
   "nbconvert_exporter": "python",
   "pygments_lexer": "ipython3",
   "version": "3.12.4"
  }
 },
 "nbformat": 4,
 "nbformat_minor": 5
}
