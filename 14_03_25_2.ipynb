{
 "cells": [
  {
   "cell_type": "markdown",
   "id": "82e5f125-5b21-4f83-9e6f-a9104afa0d5c",
   "metadata": {},
   "source": [
    "# Downsampling"
   ]
  },
  {
   "cell_type": "code",
   "execution_count": null,
   "id": "b7261241-173f-420a-8256-e3ed0600f342",
   "metadata": {},
   "outputs": [],
   "source": [
    "import numpy as np\n",
    "from scipy import signal\n",
    "import wfdb\n",
    "\n",
    "# Example sampling rates\n",
    "fs_scd = 250  # original SCD sampling rate\n",
    "fs_nsr = 128  # target sampling rate (same as NSR dataset)\n",
    "\n",
    "# Example SCD signal (simulate a 10-second sinus wave for demonstration)\n",
    "# t = np.linspace(0, 10, 10 * fs_scd, endpoint=False)\n",
    "# scd_signal = np.sin(2 * np.pi * 1.0 * t)  # 1 Hz sine wave as dummy ECG\n",
    "\n",
    "record_path_30 = './data/scddb/30'\n",
    "record_30 = wfdb.rdrecord(record_path_30)\n",
    "fs_30 = record_30.fs\n",
    "scd_signal = record_30.p_signal[:,0]\n",
    "\n",
    "\n",
    "vfon_str_30 = \"07:54:33\"\n",
    "def hms_to_seconds(hms):\n",
    "    h, m, s = hms.split(\":\")\n",
    "    return int(h)*3600 + int(m)*60 + int(s)\n",
    "\n",
    "vfon_seconds_30 = hms_to_seconds(vfon_str_30)\n",
    "\n",
    "\n",
    "# Downsample SCD signal from 250 Hz to 128 Hz\n",
    "new_length = int(len(scd_signal) * fs_nsr / fs_scd)\n",
    "scd_signal_down = signal.resample(scd_signal, new_length)  # resample to new length\n",
    "\n",
    "# Verify time alignment: event at t=5s in original should be at t=5s in downsampled\n",
    "vf_onset_time = hms_to_seconds(vfon_str_30)  # seconds (example VF onset time in original signal)\n",
    "orig_index = int(vf_onset_time * fs_scd)\n",
    "new_index = int(vf_onset_time * fs_nsr)\n",
    "print(f\"Original index: {orig_index}, New index: {new_index}\")\n"
   ]
  },
  {
   "cell_type": "code",
   "execution_count": null,
   "id": "29417ed4-bffd-4112-8296-4581e552e866",
   "metadata": {},
   "outputs": [],
   "source": []
  }
 ],
 "metadata": {
  "kernelspec": {
   "display_name": "Python 3 (ipykernel)",
   "language": "python",
   "name": "python3"
  },
  "language_info": {
   "codemirror_mode": {
    "name": "ipython",
    "version": 3
   },
   "file_extension": ".py",
   "mimetype": "text/x-python",
   "name": "python",
   "nbconvert_exporter": "python",
   "pygments_lexer": "ipython3",
   "version": "3.12.8"
  }
 },
 "nbformat": 4,
 "nbformat_minor": 5
}
