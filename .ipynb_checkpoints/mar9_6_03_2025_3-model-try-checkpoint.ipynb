{
 "cells": [
  {
   "cell_type": "code",
   "execution_count": 3,
   "id": "28420d5e-3081-46b3-bd4b-f0092ba745ee",
   "metadata": {},
   "outputs": [],
   "source": [
    "import os\n",
    "import numpy as np\n",
    "import pandas as pd\n",
    "import matplotlib.pyplot as plt\n",
    "import seaborn as sns\n",
    "import glob\n",
    "from scipy.signal import resample_poly, butter, filtfilt\n",
    "from wfdb import rdrecord, processing\n",
    "import pywt\n",
    "import wfdb\n",
    "import numpy as np\n",
    "import pywt\n",
    "import matplotlib.pyplot as plt\n",
    "\n",
    "import tensorflow as tf\n",
    "from tensorflow.keras import layers, models\n",
    "from tensorflow.keras.callbacks import EarlyStopping, ModelCheckpoint\n",
    "\n",
    "from scipy.signal import resample_poly, butter, filtfilt\n",
    "from sklearn.model_selection import train_test_split\n",
    "from sklearn.metrics import confusion_matrix, classification_report"
   ]
  },
  {
   "cell_type": "code",
   "execution_count": 5,
   "id": "60b47deb-c262-46cf-be10-7eadcd5d5897",
   "metadata": {},
   "outputs": [],
   "source": [
    "def lowpass_filter(signal, cutoff, fs, order=4):\n",
    "    \"\"\"\n",
    "    Applies a low-pass Butterworth filter with given cutoff and order.\n",
    "    \"\"\"\n",
    "    nyquist = 0.5 * fs\n",
    "    normal_cutoff = cutoff / nyquist\n",
    "    b, a = butter(order, normal_cutoff, btype='low', analog=False)\n",
    "    filtered = filtfilt(b, a, signal)\n",
    "    return filtered"
   ]
  },
  {
   "cell_type": "code",
   "execution_count": 7,
   "id": "16aaf48b-5cb1-4512-af4e-d9e3a0bba923",
   "metadata": {},
   "outputs": [],
   "source": [
    "def downsample_ecg(ecg_signal, old_fs=250, new_fs=128):\n",
    "    \"\"\"\n",
    "    Downsamples an ECG signal from old_fs to new_fs using polyphase resampling.\n",
    "    Applies a low-pass filter to avoid aliasing.\n",
    "    \"\"\"\n",
    "    # 1) Low-pass filter at half of the new fs (e.g., ~64 Hz)\n",
    "    # ecg_filtered = lowpass_filter(ecg_signal, cutoff=new_fs/2, fs=old_fs, order=4)\n",
    "\n",
    "    # 2) Resample\n",
    "    # up = new_fs, down = old_fs\n",
    "    ecg_down = resample_poly(ecg_signal, up=new_fs, down=old_fs)\n",
    "    return ecg_down"
   ]
  },
  {
   "cell_type": "code",
   "execution_count": 33,
   "id": "d7f73d3a-95ed-4b49-8e9a-6cb9f4ed9d20",
   "metadata": {},
   "outputs": [],
   "source": [
    "def load_ecg_record(record_path, desired_fs=128, channel=0):\n",
    "    \"\"\"\n",
    "    Loads an ECG record using wfdb.\n",
    "    If the record's sampling frequency is 250 Hz, downsample to 128 Hz.\n",
    "    If it's already 128 Hz, leave it as is.\n",
    "    Returns:\n",
    "      ecg: numpy array\n",
    "      fs: final sampling frequency (should be 128 Hz if we unify everything)\n",
    "    \"\"\"\n",
    "    record = rdrecord(record_path, channels=[channel])\n",
    "    fs_original = record.fs\n",
    "    ecg = record.p_signal[:, 0]\n",
    "    \n",
    "    if fs_original == desired_fs:\n",
    "        # Already at 128 Hz\n",
    "        return ecg, fs_original\n",
    "    \n",
    "    elif fs_original == 250 and desired_fs == 128:\n",
    "        # Downsample from 250 to 128\n",
    "        ecg_ds = downsample_ecg(ecg, old_fs=fs_original, new_fs=desired_fs)\n",
    "        return ecg_ds, desired_fs\n",
    "    \n",
    "    else:\n",
    "        # If you encounter any other fs, handle similarly or raise an exception\n",
    "        raise ValueError(f\"Unexpected sampling frequency: {fs_original} Hz. \"\n",
    "                         f\"Expected 128 or 250.\")"
   ]
  },
  {
   "cell_type": "code",
   "execution_count": 11,
   "id": "f605af5b-2f14-414e-8077-bc4711096bc9",
   "metadata": {},
   "outputs": [
    {
     "data": {
      "text/plain": [
       "['./data/nsrdb/16265',\n",
       " './data/nsrdb/16272',\n",
       " './data/nsrdb/16273',\n",
       " './data/nsrdb/16420',\n",
       " './data/nsrdb/16483',\n",
       " './data/nsrdb/16539',\n",
       " './data/nsrdb/16773',\n",
       " './data/nsrdb/16786',\n",
       " './data/nsrdb/16795',\n",
       " './data/nsrdb/17052',\n",
       " './data/nsrdb/17453',\n",
       " './data/nsrdb/18177',\n",
       " './data/nsrdb/18184',\n",
       " './data/nsrdb/19088',\n",
       " './data/nsrdb/19090',\n",
       " './data/nsrdb/19093',\n",
       " './data/nsrdb/19140',\n",
       " './data/nsrdb/19830']"
      ]
     },
     "execution_count": 11,
     "metadata": {},
     "output_type": "execute_result"
    }
   ],
   "source": [
    "import glob\n",
    "\n",
    "nsr_files = glob.glob(\"./data/nsrdb/*.hea\")\n",
    "nsr_records = [f[:-4] for f in nsr_files]\n",
    "nsr_records = [f.replace(\"\\\\\", \"/\")[:-4] for f in nsr_files]\n",
    "nsr_records"
   ]
  },
  {
   "cell_type": "code",
   "execution_count": 13,
   "id": "c8b31bfd-67e8-40fb-a0aa-cf266d402961",
   "metadata": {},
   "outputs": [
    {
     "data": {
      "text/plain": [
       "['./data/scddb/30',\n",
       " './data/scddb/31',\n",
       " './data/scddb/32',\n",
       " './data/scddb/33',\n",
       " './data/scddb/34',\n",
       " './data/scddb/35',\n",
       " './data/scddb/36',\n",
       " './data/scddb/37',\n",
       " './data/scddb/38',\n",
       " './data/scddb/39',\n",
       " './data/scddb/40',\n",
       " './data/scddb/41',\n",
       " './data/scddb/42',\n",
       " './data/scddb/43',\n",
       " './data/scddb/44',\n",
       " './data/scddb/45',\n",
       " './data/scddb/46',\n",
       " './data/scddb/47',\n",
       " './data/scddb/48',\n",
       " './data/scddb/49',\n",
       " './data/scddb/50',\n",
       " './data/scddb/51',\n",
       " './data/scddb/52']"
      ]
     },
     "execution_count": 13,
     "metadata": {},
     "output_type": "execute_result"
    }
   ],
   "source": [
    "# scd database\n",
    "sdd_files = glob.glob(\"./data/scddb/*.hea\")\n",
    "sdd_records = [f[:-4] for f in sdd_files]  # remove the \".hea\" extension\n",
    "sdd_records = [f.replace(\"\\\\\", \"/\")[:-4] for f in sdd_files]\n",
    "sdd_records"
   ]
  },
  {
   "cell_type": "code",
   "execution_count": 15,
   "id": "b8c70e3b-5da3-494e-86ff-10a7719d242a",
   "metadata": {},
   "outputs": [],
   "source": [
    "def segment_ecg_signal(ecg, fs, segment_length_sec=300):\n",
    "    \"\"\"\n",
    "    Splits the ECG into 5-minute segments (300 seconds).\n",
    "    Returns a list of segments (each is a numpy array).\n",
    "    \"\"\"\n",
    "    samples_per_segment = int(segment_length_sec * fs)\n",
    "    segments = []\n",
    "    start = 0\n",
    "    \n",
    "    # We'll create as many 5-min segments as possible\n",
    "    # If you specifically want exactly 6 segments from 30 min,\n",
    "    # ensure you have a 30-min signal. Otherwise, handle partial.\n",
    "    while start + samples_per_segment <= len(ecg):\n",
    "        end = start + samples_per_segment\n",
    "        seg = ecg[start:end]\n",
    "        segments.append(seg)\n",
    "        start = end\n",
    "    \n",
    "    return segments"
   ]
  },
  {
   "cell_type": "code",
   "execution_count": 37,
   "id": "11034d26-81c0-4d55-9e06-35bdba3bde59",
   "metadata": {},
   "outputs": [],
   "source": [
    "def detect_r_peaks(ecg_segment, fs):\n",
    "    \"\"\"\n",
    "    Uses wfdb's xqrs_detect to find R-peaks (indices).\n",
    "    \"\"\"\n",
    "    qrs_inds = processing.xqrs_detect(ecg_segment, fs=fs, verbose=False)\n",
    "    return qrs_inds\n",
    "\n",
    "def compute_rr_intervals(r_peaks, fs):\n",
    "    \"\"\"\n",
    "    Returns array of RR intervals in seconds.\n",
    "    \"\"\"\n",
    "    if len(r_peaks) < 2:\n",
    "        return np.array([])\n",
    "    rr_int = np.diff(r_peaks) / fs\n",
    "    return rr_int"
   ]
  },
  {
   "cell_type": "code",
   "execution_count": 17,
   "id": "6c7768bc-98dc-49d0-9efc-1df5e8030db1",
   "metadata": {},
   "outputs": [],
   "source": [
    "def get_median_filter_width(sampling_rate, duration):\n",
    "    res = int( sampling_rate*duration )\n",
    "    res += ((res%2) - 1) # needs to be an odd number\n",
    "    return res"
   ]
  },
  {
   "cell_type": "code",
   "execution_count": 19,
   "id": "9db7b0dc-ddf9-4a1b-8c1f-3198b2dfcf0f",
   "metadata": {},
   "outputs": [],
   "source": [
    "# baseline fitting by filtering\n",
    "# === Define Filtering Params for Baseline fitting Leads======================\n",
    "\n",
    "BASIC_SRATE = 128\n",
    "ms_flt_array = [0.2,0.6]    #<-- length of baseline fitting filters (in seconds)\n",
    "mfa = np.zeros(len(ms_flt_array), dtype='int')\n",
    "for i in range(0, len(ms_flt_array)):\n",
    "    mfa[i] = get_median_filter_width(BASIC_SRATE,ms_flt_array[i])"
   ]
  },
  {
   "cell_type": "code",
   "execution_count": 21,
   "id": "00d3a870-5110-4e49-a4f3-cf80cb99e05a",
   "metadata": {},
   "outputs": [],
   "source": [
    "def wavelet_denoise(ecg_segment, wavelet='sym5', level=5):\n",
    "    \"\"\"\n",
    "    Performs wavelet decomposition (sym5) and thresholding \n",
    "    on detail coefficients to denoise.\n",
    "    \"\"\"\n",
    "    coeffs = pywt.wavedec(ecg_segment, wavelet, level=level)\n",
    "    \n",
    "    for i in range(1, len(coeffs)):  # skip approximation coeff (i=0)\n",
    "        threshold = 0.04 * np.max(coeffs[i])  # simplistic threshold\n",
    "        coeffs[i] = pywt.threshold(coeffs[i], threshold, mode='soft')\n",
    "    \n",
    "    denoised = pywt.waverec(coeffs, wavelet)\n",
    "    denoised = denoised[:len(ecg_segment)]\n",
    "    return denoised"
   ]
  },
  {
   "cell_type": "code",
   "execution_count": 23,
   "id": "70fe055b-fcd9-471a-bff6-c31b77c473e2",
   "metadata": {},
   "outputs": [],
   "source": [
    "from scipy.signal import medfilt\n",
    "\n",
    "def filter_signal(X):\n",
    "    global mfa\n",
    "    X0 = X  #read orignal signal\n",
    "    for mi in range(0,len(mfa)):\n",
    "        X0 = medfilt(X0,mfa[mi]) # apply median filter one by one on top of each other\n",
    "    X0 = np.subtract(X,X0)  # finally subtract from orignal signal\n",
    "    return X0"
   ]
  },
  {
   "cell_type": "code",
   "execution_count": 25,
   "id": "4749bcc8-583f-44ce-8f45-0e282f721124",
   "metadata": {},
   "outputs": [],
   "source": [
    "def compute_rr_intervals(r_peaks, fs):\n",
    "    \"\"\"\n",
    "    Returns array of RR intervals in seconds.\n",
    "    \"\"\"\n",
    "    if len(r_peaks) < 2:\n",
    "        return np.array([])\n",
    "    rr_int = np.diff(r_peaks) / fs\n",
    "    return rr_int"
   ]
  },
  {
   "cell_type": "code",
   "execution_count": 27,
   "id": "0c1be0e7-de05-4b02-982c-79ca7257c091",
   "metadata": {},
   "outputs": [],
   "source": [
    "def extract_hrv_features(rr_intervals):\n",
    "    \"\"\"\n",
    "    Returns a numpy array of the 8 features:\n",
    "      [MeanRR, RMSSD, pNN50, SDRR, CVRR, NN50, MinRR, MaxRR]\n",
    "    \"\"\"\n",
    "    if len(rr_intervals) < 2:\n",
    "        return np.zeros(8)\n",
    "    \n",
    "    mean_rr = np.mean(rr_intervals)\n",
    "    sdrr = np.std(rr_intervals)\n",
    "    \n",
    "    diff_rr = np.diff(rr_intervals)\n",
    "    rmssd = np.sqrt(np.mean(diff_rr**2)) if len(diff_rr) > 0 else 0\n",
    "    \n",
    "    # 50 ms threshold => 0.05 s\n",
    "    threshold = 0.05\n",
    "    nn50 = np.sum(np.abs(diff_rr) > threshold)\n",
    "    pnn50 = (nn50 / len(diff_rr)) * 100 if len(diff_rr) > 0 else 0\n",
    "    \n",
    "    cvrr = sdrr / mean_rr if mean_rr != 0 else 0\n",
    "    min_rr = np.min(rr_intervals)\n",
    "    max_rr = np.max(rr_intervals)\n",
    "    \n",
    "    return np.array([mean_rr, rmssd, pnn50, sdrr, cvrr, nn50, min_rr, max_rr])"
   ]
  },
  {
   "cell_type": "code",
   "execution_count": 31,
   "id": "d1ff4099-07b9-4af3-8cab-3dbda8f5ee7e",
   "metadata": {},
   "outputs": [],
   "source": [
    "def build_dataset(record_paths, label):\n",
    "    \"\"\"\n",
    "    record_paths: list of .hea file paths (without .hea extension),\n",
    "                  e.g., './SCD_data/XXXX'\n",
    "    label: 0 for NSR, 1 for SCD\n",
    "    \n",
    "    Returns:\n",
    "      X -> array of shape (num_segments, 8)  [8 HRV features]\n",
    "      y -> array of labels\n",
    "    \"\"\"\n",
    "    X, y = [], []\n",
    "    \n",
    "    for rec_path in record_paths:\n",
    "        # 1) Load ECG and unify sampling frequency at 128 Hz\n",
    "        ecg, fs = load_ecg_record(rec_path, desired_fs=128)  # Will downsample if 250 Hz\n",
    "        \n",
    "        # 2) Segment (5-minute blocks)\n",
    "        segments = segment_ecg_signal(ecg, fs, segment_length_sec=300)\n",
    "        \n",
    "        for seg in segments:\n",
    "            # a) Denoise\n",
    "            seg_denoised = wavelet_denoise(seg)\n",
    "\n",
    "\n",
    "            sig_fil = filter_signal(seg_denoised)\n",
    "            # b) Normalize\n",
    "            #seg_norm = normalize_ecg_segment(sig_fil)\n",
    "            # c) R-peak detection\n",
    "            r_peaks = detect_r_peaks(sig_fil, fs)\n",
    "            # d) RR intervals\n",
    "            rr_int = compute_rr_intervals(r_peaks, fs)\n",
    "            # e) HRV features\n",
    "            features = extract_hrv_features(rr_int)\n",
    "            \n",
    "            X.append(features)\n",
    "            y.append(label)\n",
    "    \n",
    "    return np.array(X), np.array(y)"
   ]
  },
  {
   "cell_type": "code",
   "execution_count": 39,
   "id": "edecbbdd-a1d1-4f5e-be45-94c2890dcc56",
   "metadata": {},
   "outputs": [],
   "source": [
    "X_scd, y_scd = build_dataset(sdd_records, label=1)"
   ]
  },
  {
   "cell_type": "code",
   "execution_count": 41,
   "id": "a36238e9-c457-44d6-9a56-2c90d0efc0f9",
   "metadata": {},
   "outputs": [],
   "source": [
    "X_nsr, y_nsr = build_dataset(nsr_records, label=0)"
   ]
  },
  {
   "cell_type": "code",
   "execution_count": 43,
   "id": "ca0eb534-960f-4833-9276-bbb4bd484fea",
   "metadata": {},
   "outputs": [],
   "source": [
    "X_all = np.concatenate([X_scd, X_nsr], axis=0)\n",
    "y_all = np.concatenate([y_scd, y_nsr], axis=0)"
   ]
  },
  {
   "cell_type": "code",
   "execution_count": 45,
   "id": "db294455-b6f9-4892-b661-011b33ce98b0",
   "metadata": {},
   "outputs": [],
   "source": [
    "X_train, X_test, y_train, y_test = train_test_split(\n",
    "    X_all, y_all,\n",
    "    test_size=0.2,\n",
    "    stratify=y_all,\n",
    "    random_state=42\n",
    ")"
   ]
  },
  {
   "cell_type": "code",
   "execution_count": 47,
   "id": "9a6c3509-2610-4915-a703-c077e8276f35",
   "metadata": {},
   "outputs": [
    {
     "data": {
      "text/html": [
       "<pre style=\"white-space:pre;overflow-x:auto;line-height:normal;font-family:Menlo,'DejaVu Sans Mono',consolas,'Courier New',monospace\"><span style=\"font-weight: bold\">Model: \"sequential\"</span>\n",
       "</pre>\n"
      ],
      "text/plain": [
       "\u001b[1mModel: \"sequential\"\u001b[0m\n"
      ]
     },
     "metadata": {},
     "output_type": "display_data"
    },
    {
     "data": {
      "text/html": [
       "<pre style=\"white-space:pre;overflow-x:auto;line-height:normal;font-family:Menlo,'DejaVu Sans Mono',consolas,'Courier New',monospace\">┏━━━━━━━━━━━━━━━━━━━━━━━━━━━━━━━━━━━━━━┳━━━━━━━━━━━━━━━━━━━━━━━━━━━━━┳━━━━━━━━━━━━━━━━━┓\n",
       "┃<span style=\"font-weight: bold\"> Layer (type)                         </span>┃<span style=\"font-weight: bold\"> Output Shape                </span>┃<span style=\"font-weight: bold\">         Param # </span>┃\n",
       "┡━━━━━━━━━━━━━━━━━━━━━━━━━━━━━━━━━━━━━━╇━━━━━━━━━━━━━━━━━━━━━━━━━━━━━╇━━━━━━━━━━━━━━━━━┩\n",
       "│ conv1d (<span style=\"color: #0087ff; text-decoration-color: #0087ff\">Conv1D</span>)                      │ (<span style=\"color: #00d7ff; text-decoration-color: #00d7ff\">None</span>, <span style=\"color: #00af00; text-decoration-color: #00af00\">8</span>, <span style=\"color: #00af00; text-decoration-color: #00af00\">32</span>)               │             <span style=\"color: #00af00; text-decoration-color: #00af00\">128</span> │\n",
       "├──────────────────────────────────────┼─────────────────────────────┼─────────────────┤\n",
       "│ max_pooling1d (<span style=\"color: #0087ff; text-decoration-color: #0087ff\">MaxPooling1D</span>)         │ (<span style=\"color: #00d7ff; text-decoration-color: #00d7ff\">None</span>, <span style=\"color: #00af00; text-decoration-color: #00af00\">4</span>, <span style=\"color: #00af00; text-decoration-color: #00af00\">32</span>)               │               <span style=\"color: #00af00; text-decoration-color: #00af00\">0</span> │\n",
       "├──────────────────────────────────────┼─────────────────────────────┼─────────────────┤\n",
       "│ conv1d_1 (<span style=\"color: #0087ff; text-decoration-color: #0087ff\">Conv1D</span>)                    │ (<span style=\"color: #00d7ff; text-decoration-color: #00d7ff\">None</span>, <span style=\"color: #00af00; text-decoration-color: #00af00\">4</span>, <span style=\"color: #00af00; text-decoration-color: #00af00\">64</span>)               │           <span style=\"color: #00af00; text-decoration-color: #00af00\">6,208</span> │\n",
       "├──────────────────────────────────────┼─────────────────────────────┼─────────────────┤\n",
       "│ global_average_pooling1d             │ (<span style=\"color: #00d7ff; text-decoration-color: #00d7ff\">None</span>, <span style=\"color: #00af00; text-decoration-color: #00af00\">64</span>)                  │               <span style=\"color: #00af00; text-decoration-color: #00af00\">0</span> │\n",
       "│ (<span style=\"color: #0087ff; text-decoration-color: #0087ff\">GlobalAveragePooling1D</span>)             │                             │                 │\n",
       "├──────────────────────────────────────┼─────────────────────────────┼─────────────────┤\n",
       "│ dense (<span style=\"color: #0087ff; text-decoration-color: #0087ff\">Dense</span>)                        │ (<span style=\"color: #00d7ff; text-decoration-color: #00d7ff\">None</span>, <span style=\"color: #00af00; text-decoration-color: #00af00\">64</span>)                  │           <span style=\"color: #00af00; text-decoration-color: #00af00\">4,160</span> │\n",
       "├──────────────────────────────────────┼─────────────────────────────┼─────────────────┤\n",
       "│ dropout (<span style=\"color: #0087ff; text-decoration-color: #0087ff\">Dropout</span>)                    │ (<span style=\"color: #00d7ff; text-decoration-color: #00d7ff\">None</span>, <span style=\"color: #00af00; text-decoration-color: #00af00\">64</span>)                  │               <span style=\"color: #00af00; text-decoration-color: #00af00\">0</span> │\n",
       "├──────────────────────────────────────┼─────────────────────────────┼─────────────────┤\n",
       "│ dense_1 (<span style=\"color: #0087ff; text-decoration-color: #0087ff\">Dense</span>)                      │ (<span style=\"color: #00d7ff; text-decoration-color: #00d7ff\">None</span>, <span style=\"color: #00af00; text-decoration-color: #00af00\">1</span>)                   │              <span style=\"color: #00af00; text-decoration-color: #00af00\">65</span> │\n",
       "└──────────────────────────────────────┴─────────────────────────────┴─────────────────┘\n",
       "</pre>\n"
      ],
      "text/plain": [
       "┏━━━━━━━━━━━━━━━━━━━━━━━━━━━━━━━━━━━━━━┳━━━━━━━━━━━━━━━━━━━━━━━━━━━━━┳━━━━━━━━━━━━━━━━━┓\n",
       "┃\u001b[1m \u001b[0m\u001b[1mLayer (type)                        \u001b[0m\u001b[1m \u001b[0m┃\u001b[1m \u001b[0m\u001b[1mOutput Shape               \u001b[0m\u001b[1m \u001b[0m┃\u001b[1m \u001b[0m\u001b[1m        Param #\u001b[0m\u001b[1m \u001b[0m┃\n",
       "┡━━━━━━━━━━━━━━━━━━━━━━━━━━━━━━━━━━━━━━╇━━━━━━━━━━━━━━━━━━━━━━━━━━━━━╇━━━━━━━━━━━━━━━━━┩\n",
       "│ conv1d (\u001b[38;5;33mConv1D\u001b[0m)                      │ (\u001b[38;5;45mNone\u001b[0m, \u001b[38;5;34m8\u001b[0m, \u001b[38;5;34m32\u001b[0m)               │             \u001b[38;5;34m128\u001b[0m │\n",
       "├──────────────────────────────────────┼─────────────────────────────┼─────────────────┤\n",
       "│ max_pooling1d (\u001b[38;5;33mMaxPooling1D\u001b[0m)         │ (\u001b[38;5;45mNone\u001b[0m, \u001b[38;5;34m4\u001b[0m, \u001b[38;5;34m32\u001b[0m)               │               \u001b[38;5;34m0\u001b[0m │\n",
       "├──────────────────────────────────────┼─────────────────────────────┼─────────────────┤\n",
       "│ conv1d_1 (\u001b[38;5;33mConv1D\u001b[0m)                    │ (\u001b[38;5;45mNone\u001b[0m, \u001b[38;5;34m4\u001b[0m, \u001b[38;5;34m64\u001b[0m)               │           \u001b[38;5;34m6,208\u001b[0m │\n",
       "├──────────────────────────────────────┼─────────────────────────────┼─────────────────┤\n",
       "│ global_average_pooling1d             │ (\u001b[38;5;45mNone\u001b[0m, \u001b[38;5;34m64\u001b[0m)                  │               \u001b[38;5;34m0\u001b[0m │\n",
       "│ (\u001b[38;5;33mGlobalAveragePooling1D\u001b[0m)             │                             │                 │\n",
       "├──────────────────────────────────────┼─────────────────────────────┼─────────────────┤\n",
       "│ dense (\u001b[38;5;33mDense\u001b[0m)                        │ (\u001b[38;5;45mNone\u001b[0m, \u001b[38;5;34m64\u001b[0m)                  │           \u001b[38;5;34m4,160\u001b[0m │\n",
       "├──────────────────────────────────────┼─────────────────────────────┼─────────────────┤\n",
       "│ dropout (\u001b[38;5;33mDropout\u001b[0m)                    │ (\u001b[38;5;45mNone\u001b[0m, \u001b[38;5;34m64\u001b[0m)                  │               \u001b[38;5;34m0\u001b[0m │\n",
       "├──────────────────────────────────────┼─────────────────────────────┼─────────────────┤\n",
       "│ dense_1 (\u001b[38;5;33mDense\u001b[0m)                      │ (\u001b[38;5;45mNone\u001b[0m, \u001b[38;5;34m1\u001b[0m)                   │              \u001b[38;5;34m65\u001b[0m │\n",
       "└──────────────────────────────────────┴─────────────────────────────┴─────────────────┘\n"
      ]
     },
     "metadata": {},
     "output_type": "display_data"
    },
    {
     "data": {
      "text/html": [
       "<pre style=\"white-space:pre;overflow-x:auto;line-height:normal;font-family:Menlo,'DejaVu Sans Mono',consolas,'Courier New',monospace\"><span style=\"font-weight: bold\"> Total params: </span><span style=\"color: #00af00; text-decoration-color: #00af00\">10,561</span> (41.25 KB)\n",
       "</pre>\n"
      ],
      "text/plain": [
       "\u001b[1m Total params: \u001b[0m\u001b[38;5;34m10,561\u001b[0m (41.25 KB)\n"
      ]
     },
     "metadata": {},
     "output_type": "display_data"
    },
    {
     "data": {
      "text/html": [
       "<pre style=\"white-space:pre;overflow-x:auto;line-height:normal;font-family:Menlo,'DejaVu Sans Mono',consolas,'Courier New',monospace\"><span style=\"font-weight: bold\"> Trainable params: </span><span style=\"color: #00af00; text-decoration-color: #00af00\">10,561</span> (41.25 KB)\n",
       "</pre>\n"
      ],
      "text/plain": [
       "\u001b[1m Trainable params: \u001b[0m\u001b[38;5;34m10,561\u001b[0m (41.25 KB)\n"
      ]
     },
     "metadata": {},
     "output_type": "display_data"
    },
    {
     "data": {
      "text/html": [
       "<pre style=\"white-space:pre;overflow-x:auto;line-height:normal;font-family:Menlo,'DejaVu Sans Mono',consolas,'Courier New',monospace\"><span style=\"font-weight: bold\"> Non-trainable params: </span><span style=\"color: #00af00; text-decoration-color: #00af00\">0</span> (0.00 B)\n",
       "</pre>\n"
      ],
      "text/plain": [
       "\u001b[1m Non-trainable params: \u001b[0m\u001b[38;5;34m0\u001b[0m (0.00 B)\n"
      ]
     },
     "metadata": {},
     "output_type": "display_data"
    },
    {
     "ename": "ValueError",
     "evalue": "The filepath provided must end in `.keras` (Keras model format). Received: filepath=best_model.h5",
     "output_type": "error",
     "traceback": [
      "\u001b[1;31m---------------------------------------------------------------------------\u001b[0m",
      "\u001b[1;31mValueError\u001b[0m                                Traceback (most recent call last)",
      "Cell \u001b[1;32mIn[47], line 35\u001b[0m\n\u001b[0;32m     32\u001b[0m X_test_reshaped \u001b[38;5;241m=\u001b[39m X_test\u001b[38;5;241m.\u001b[39mreshape((\u001b[38;5;241m-\u001b[39m\u001b[38;5;241m1\u001b[39m, \u001b[38;5;241m8\u001b[39m, \u001b[38;5;241m1\u001b[39m))\n\u001b[0;32m     34\u001b[0m es \u001b[38;5;241m=\u001b[39m EarlyStopping(monitor\u001b[38;5;241m=\u001b[39m\u001b[38;5;124m'\u001b[39m\u001b[38;5;124mval_loss\u001b[39m\u001b[38;5;124m'\u001b[39m, patience\u001b[38;5;241m=\u001b[39m\u001b[38;5;241m10\u001b[39m, restore_best_weights\u001b[38;5;241m=\u001b[39m\u001b[38;5;28;01mTrue\u001b[39;00m)\n\u001b[1;32m---> 35\u001b[0m mc \u001b[38;5;241m=\u001b[39m ModelCheckpoint(\u001b[38;5;124m'\u001b[39m\u001b[38;5;124mbest_model.h5\u001b[39m\u001b[38;5;124m'\u001b[39m, monitor\u001b[38;5;241m=\u001b[39m\u001b[38;5;124m'\u001b[39m\u001b[38;5;124mval_loss\u001b[39m\u001b[38;5;124m'\u001b[39m, save_best_only\u001b[38;5;241m=\u001b[39m\u001b[38;5;28;01mTrue\u001b[39;00m)\n\u001b[0;32m     37\u001b[0m history \u001b[38;5;241m=\u001b[39m model\u001b[38;5;241m.\u001b[39mfit(\n\u001b[0;32m     38\u001b[0m     X_train_reshaped, y_train,\n\u001b[0;32m     39\u001b[0m     validation_split\u001b[38;5;241m=\u001b[39m\u001b[38;5;241m0.2\u001b[39m,\n\u001b[1;32m   (...)\u001b[0m\n\u001b[0;32m     43\u001b[0m     verbose\u001b[38;5;241m=\u001b[39m\u001b[38;5;241m1\u001b[39m\n\u001b[0;32m     44\u001b[0m )\n\u001b[0;32m     46\u001b[0m \u001b[38;5;66;03m# Evaluate\u001b[39;00m\n",
      "File \u001b[1;32m~\\anaconda3\\Lib\\site-packages\\keras\\src\\callbacks\\model_checkpoint.py:191\u001b[0m, in \u001b[0;36mModelCheckpoint.__init__\u001b[1;34m(self, filepath, monitor, verbose, save_best_only, save_weights_only, mode, save_freq, initial_value_threshold)\u001b[0m\n\u001b[0;32m    189\u001b[0m \u001b[38;5;28;01melse\u001b[39;00m:\n\u001b[0;32m    190\u001b[0m     \u001b[38;5;28;01mif\u001b[39;00m \u001b[38;5;129;01mnot\u001b[39;00m \u001b[38;5;28mself\u001b[39m\u001b[38;5;241m.\u001b[39mfilepath\u001b[38;5;241m.\u001b[39mendswith(\u001b[38;5;124m\"\u001b[39m\u001b[38;5;124m.keras\u001b[39m\u001b[38;5;124m\"\u001b[39m):\n\u001b[1;32m--> 191\u001b[0m         \u001b[38;5;28;01mraise\u001b[39;00m \u001b[38;5;167;01mValueError\u001b[39;00m(\n\u001b[0;32m    192\u001b[0m             \u001b[38;5;124m\"\u001b[39m\u001b[38;5;124mThe filepath provided must end in `.keras` \u001b[39m\u001b[38;5;124m\"\u001b[39m\n\u001b[0;32m    193\u001b[0m             \u001b[38;5;124m\"\u001b[39m\u001b[38;5;124m(Keras model format). Received: \u001b[39m\u001b[38;5;124m\"\u001b[39m\n\u001b[0;32m    194\u001b[0m             \u001b[38;5;124mf\u001b[39m\u001b[38;5;124m\"\u001b[39m\u001b[38;5;124mfilepath=\u001b[39m\u001b[38;5;132;01m{\u001b[39;00m\u001b[38;5;28mself\u001b[39m\u001b[38;5;241m.\u001b[39mfilepath\u001b[38;5;132;01m}\u001b[39;00m\u001b[38;5;124m\"\u001b[39m\n\u001b[0;32m    195\u001b[0m         )\n",
      "\u001b[1;31mValueError\u001b[0m: The filepath provided must end in `.keras` (Keras model format). Received: filepath=best_model.h5"
     ]
    }
   ],
   "source": [
    "def build_simple_1dcnn(input_length=8):\n",
    "    model = tf.keras.Sequential([\n",
    "        layers.Input(shape=(input_length,1)),\n",
    "        \n",
    "        layers.Conv1D(filters=32, kernel_size=3, padding='causal', activation='relu'),\n",
    "        layers.MaxPooling1D(pool_size=2),\n",
    "        \n",
    "        layers.Conv1D(filters=64, kernel_size=3, padding='causal', activation='relu'),\n",
    "        layers.GlobalAveragePooling1D(),\n",
    "        \n",
    "        layers.Dense(64, activation='relu'),\n",
    "        layers.Dropout(0.2),\n",
    "        layers.Dense(1, activation='sigmoid')\n",
    "    ])\n",
    "    return model\n",
    "\n",
    "\n",
    "\n",
    "\n",
    "\n",
    "\n",
    "model = build_simple_1dcnn(input_length=8)\n",
    "model.compile(\n",
    "    optimizer=tf.keras.optimizers.Adam(learning_rate=0.001),\n",
    "    loss='binary_crossentropy',\n",
    "    metrics=['accuracy']\n",
    ")\n",
    "\n",
    "model.summary()\n",
    "\n",
    "X_train_reshaped = X_train.reshape((-1, 8, 1))\n",
    "X_test_reshaped = X_test.reshape((-1, 8, 1))\n",
    "\n",
    "es = EarlyStopping(monitor='val_loss', patience=10, restore_best_weights=True)\n",
    "mc = ModelCheckpoint('best_model.h5', monitor='val_loss', save_best_only=True)\n",
    "\n",
    "history = model.fit(\n",
    "    X_train_reshaped, y_train,\n",
    "    validation_split=0.2,\n",
    "    epochs=50,\n",
    "    batch_size=64,\n",
    "    callbacks=[es, mc],\n",
    "    verbose=1\n",
    ")\n",
    "\n",
    "# Evaluate\n",
    "test_loss, test_acc = model.evaluate(X_test_reshaped, y_test, verbose=0)\n",
    "print(f\"Test Accuracy: {test_acc*100:.2f}%\")\n",
    "\n",
    "y_pred_proba = model.predict(X_test_reshaped)\n",
    "y_pred = (y_pred_proba >= 0.5).astype(int).ravel()\n",
    "\n",
    "cm = confusion_matrix(y_test, y_pred)\n",
    "print(\"Confusion Matrix:\\n\", cm)\n",
    "\n",
    "print(classification_report(y_test, y_pred, target_names=[\"NSR\",\"SCD\"]))\n",
    "\n",
    "# Plot training curves\n",
    "plt.figure(figsize=(12,4))\n",
    "plt.subplot(1,2,1)\n",
    "plt.plot(history.history['accuracy'], label='train_acc')\n",
    "plt.plot(history.history['val_accuracy'], label='val_acc')\n",
    "plt.legend(); plt.title('Accuracy')\n",
    "\n",
    "plt.subplot(1,2,2)\n",
    "plt.plot(history.history['loss'], label='train_loss')\n",
    "plt.plot(history.history['val_loss'], label='val_loss')\n",
    "plt.legend(); plt.title('Loss')\n",
    "plt.show()\n"
   ]
  },
  {
   "cell_type": "code",
   "execution_count": null,
   "id": "149b61f2-9a5d-44fa-82e8-051d8800f2cb",
   "metadata": {},
   "outputs": [],
   "source": []
  }
 ],
 "metadata": {
  "kernelspec": {
   "display_name": "Python 3 (ipykernel)",
   "language": "python",
   "name": "python3"
  },
  "language_info": {
   "codemirror_mode": {
    "name": "ipython",
    "version": 3
   },
   "file_extension": ".py",
   "mimetype": "text/x-python",
   "name": "python",
   "nbconvert_exporter": "python",
   "pygments_lexer": "ipython3",
   "version": "3.12.4"
  }
 },
 "nbformat": 4,
 "nbformat_minor": 5
}
