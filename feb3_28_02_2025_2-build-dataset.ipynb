{
 "cells": [
  {
   "cell_type": "code",
   "execution_count": 1,
   "id": "611c5d36-6add-4b38-959d-716d8968f79a",
   "metadata": {},
   "outputs": [],
   "source": [
    "import os\n",
    "import numpy as np\n",
    "import pandas as pd\n",
    "import matplotlib.pyplot as plt\n",
    "import seaborn as sns\n",
    "\n",
    "import wfdb\n",
    "from wfdb import rdrecord, processing\n",
    "import pywt\n",
    "\n",
    "import tensorflow as tf\n",
    "from tensorflow.keras import layers, models\n",
    "from tensorflow.keras.callbacks import EarlyStopping, ModelCheckpoint\n",
    "\n",
    "from scipy.signal import resample_poly, butter, filtfilt\n",
    "from sklearn.model_selection import train_test_split\n",
    "from sklearn.metrics import confusion_matrix, classification_report\n",
    "\n",
    "sns.set_style('whitegrid')\n",
    "np.set_printoptions(precision=3, suppress=True)"
   ]
  },
  {
   "cell_type": "code",
   "execution_count": 2,
   "id": "b911dd08-e221-4728-bd1b-ae013034d005",
   "metadata": {},
   "outputs": [],
   "source": [
    "def lowpass_filter(signal, cutoff, fs, order=4):\n",
    "    \"\"\"\n",
    "    Applies a low-pass Butterworth filter with given cutoff and order.\n",
    "    \"\"\"\n",
    "    nyquist = 0.5 * fs\n",
    "    normal_cutoff = cutoff / nyquist\n",
    "    b, a = butter(order, normal_cutoff, btype='low', analog=False)\n",
    "    filtered = filtfilt(b, a, signal)\n",
    "    return filtered"
   ]
  },
  {
   "cell_type": "code",
   "execution_count": 4,
   "id": "6fa1d293-9b49-4e51-82af-2c95e87f7a5f",
   "metadata": {},
   "outputs": [],
   "source": [
    "def downsample_ecg(ecg_signal, old_fs=250, new_fs=128):\n",
    "    \"\"\"\n",
    "    Downsamples an ECG signal from old_fs to new_fs using polyphase resampling.\n",
    "    Applies a low-pass filter to avoid aliasing.\n",
    "    \"\"\"\n",
    "    # 1) Low-pass filter at half of the new fs (e.g., ~64 Hz)\n",
    "    # ecg_filtered = lowpass_filter(ecg_signal, cutoff=new_fs/2, fs=old_fs, order=4)\n",
    "\n",
    "    # 2) Resample\n",
    "    # up = new_fs, down = old_fs\n",
    "    ecg_down = resample_poly(ecg_signal, up=new_fs, down=old_fs)\n",
    "    return ecg_down"
   ]
  },
  {
   "cell_type": "code",
   "execution_count": 5,
   "id": "4b6414b5-8caf-418a-a1b8-4f2549e176fe",
   "metadata": {},
   "outputs": [],
   "source": [
    "def load_ecg_record(record_path, desired_fs=128, channel=0):\n",
    "    \"\"\"\n",
    "    Loads an ECG record using wfdb.\n",
    "    If the record's sampling frequency is 250 Hz, downsample to 128 Hz.\n",
    "    If it's already 128 Hz, leave it as is.\n",
    "    Returns:\n",
    "      ecg: numpy array\n",
    "      fs: final sampling frequency (should be 128 Hz if we unify everything)\n",
    "    \"\"\"\n",
    "    record = rdrecord(record_path, channels=[channel])\n",
    "    fs_original = record.fs\n",
    "    ecg = record.p_signal.flatten()\n",
    "    \n",
    "    if fs_original == desired_fs:\n",
    "        # Already at 128 Hz\n",
    "        return ecg, fs_original\n",
    "    \n",
    "    elif fs_original == 250 and desired_fs == 128:\n",
    "        # Downsample from 250 to 128\n",
    "        ecg_ds = downsample_ecg(ecg, old_fs=fs_original, new_fs=desired_fs)\n",
    "        return ecg_ds, desired_fs\n",
    "    \n",
    "    else:\n",
    "        # If you encounter any other fs, handle similarly or raise an exception\n",
    "        raise ValueError(f\"Unexpected sampling frequency: {fs_original} Hz. \"\n",
    "                         f\"Expected 128 or 250.\")"
   ]
  },
  {
   "cell_type": "code",
   "execution_count": 6,
   "id": "094aca4d-294a-4d2f-ace9-a6dd69314a6b",
   "metadata": {},
   "outputs": [],
   "source": [
    "import glob"
   ]
  },
  {
   "cell_type": "code",
   "execution_count": 7,
   "id": "55ded6b2-fc38-4951-8a61-390f14b6aa61",
   "metadata": {},
   "outputs": [
    {
     "data": {
      "text/plain": [
       "['./data/nsrdb/16265',\n",
       " './data/nsrdb/16272',\n",
       " './data/nsrdb/16273',\n",
       " './data/nsrdb/16420',\n",
       " './data/nsrdb/16483',\n",
       " './data/nsrdb/16539',\n",
       " './data/nsrdb/16773',\n",
       " './data/nsrdb/16786',\n",
       " './data/nsrdb/16795',\n",
       " './data/nsrdb/17052',\n",
       " './data/nsrdb/17453',\n",
       " './data/nsrdb/18177',\n",
       " './data/nsrdb/18184',\n",
       " './data/nsrdb/19088',\n",
       " './data/nsrdb/19090',\n",
       " './data/nsrdb/19093',\n",
       " './data/nsrdb/19140',\n",
       " './data/nsrdb/19830']"
      ]
     },
     "execution_count": 7,
     "metadata": {},
     "output_type": "execute_result"
    }
   ],
   "source": [
    "nsr_files = glob.glob(\"./data/nsrdb/*.hea\")\n",
    "nsr_records = [f[:-4] for f in nsr_files]\n",
    "nsr_records = [f.replace(\"\\\\\", \"/\")[:-4] for f in nsr_files]\n",
    "nsr_records"
   ]
  },
  {
   "cell_type": "code",
   "execution_count": 8,
   "id": "da9232c4-ac46-487d-ae3c-e1291a7f1e2e",
   "metadata": {},
   "outputs": [
    {
     "data": {
      "text/plain": [
       "['./data/scddb/30',\n",
       " './data/scddb/31',\n",
       " './data/scddb/32',\n",
       " './data/scddb/33',\n",
       " './data/scddb/34',\n",
       " './data/scddb/35',\n",
       " './data/scddb/36',\n",
       " './data/scddb/37',\n",
       " './data/scddb/38',\n",
       " './data/scddb/39',\n",
       " './data/scddb/40',\n",
       " './data/scddb/41',\n",
       " './data/scddb/42',\n",
       " './data/scddb/43',\n",
       " './data/scddb/44',\n",
       " './data/scddb/45',\n",
       " './data/scddb/46',\n",
       " './data/scddb/47',\n",
       " './data/scddb/48',\n",
       " './data/scddb/49',\n",
       " './data/scddb/50',\n",
       " './data/scddb/51',\n",
       " './data/scddb/52']"
      ]
     },
     "execution_count": 8,
     "metadata": {},
     "output_type": "execute_result"
    }
   ],
   "source": [
    "# scd database\n",
    "sdd_files = glob.glob(\"./data/scddb/*.hea\")\n",
    "sdd_records = [f[:-4] for f in sdd_files]  # remove the \".hea\" extension\n",
    "sdd_records = [f.replace(\"\\\\\", \"/\")[:-4] for f in sdd_files]\n",
    "sdd_records"
   ]
  },
  {
   "cell_type": "code",
   "execution_count": 9,
   "id": "be102eda-a637-4850-a20b-6fc35a0e6016",
   "metadata": {},
   "outputs": [],
   "source": [
    "def segment_ecg_signal(ecg, fs, segment_length_sec=300):\n",
    "    \"\"\"\n",
    "    Splits the ECG into 5-minute segments (300 seconds).\n",
    "    Returns a list of segments (each is a numpy array).\n",
    "    \"\"\"\n",
    "    samples_per_segment = int(segment_length_sec * fs)\n",
    "    segments = []\n",
    "    start = 0\n",
    "    \n",
    "    # We'll create as many 5-min segments as possible\n",
    "    # If you specifically want exactly 6 segments from 30 min,\n",
    "    # ensure you have a 30-min signal. Otherwise, handle partial.\n",
    "    while start + samples_per_segment <= len(ecg):\n",
    "        end = start + samples_per_segment\n",
    "        seg = ecg[start:end]\n",
    "        segments.append(seg)\n",
    "        start = end\n",
    "    \n",
    "    return segments"
   ]
  },
  {
   "cell_type": "code",
   "execution_count": 10,
   "id": "caf75f62-3cfa-4cda-a57a-c0eee93787c1",
   "metadata": {},
   "outputs": [],
   "source": [
    "def wavelet_denoise(ecg_segment, wavelet='sym5', level=5):\n",
    "    \"\"\"\n",
    "    Performs wavelet decomposition (sym5) and thresholding \n",
    "    on detail coefficients to denoise.\n",
    "    \"\"\"\n",
    "    coeffs = pywt.wavedec(ecg_segment, wavelet, level=level)\n",
    "    \n",
    "    for i in range(1, len(coeffs)):  # skip approximation coeff (i=0)\n",
    "        threshold = 0.04 * np.max(coeffs[i])  # simplistic threshold\n",
    "        coeffs[i] = pywt.threshold(coeffs[i], threshold, mode='soft')\n",
    "    \n",
    "    denoised = pywt.waverec(coeffs, wavelet)\n",
    "    denoised = denoised[:len(ecg_segment)]\n",
    "    return denoised"
   ]
  },
  {
   "cell_type": "code",
   "execution_count": 11,
   "id": "2e5b729b-b6cc-4129-9481-b9e2b020da0d",
   "metadata": {},
   "outputs": [],
   "source": [
    "def normalize_ecg_segment(ecg_segment):\n",
    "    \"\"\"\n",
    "    Applies Normalized Absolute Deviation (NADev).\n",
    "    \"\"\"\n",
    "    median_val = np.median(ecg_segment)\n",
    "    mad = np.median(np.abs(ecg_segment - median_val))\n",
    "    if mad == 0:\n",
    "        mad = 1e-8\n",
    "    ecg_norm = (ecg_segment - median_val) / mad\n",
    "    return ecg_norm"
   ]
  },
  {
   "cell_type": "code",
   "execution_count": 12,
   "id": "f32535b6-b8b8-4573-a1e4-90557d8465e7",
   "metadata": {},
   "outputs": [],
   "source": [
    "def detect_r_peaks(ecg_segment, fs):\n",
    "    \"\"\"\n",
    "    Uses wfdb's xqrs_detect to find R-peaks (indices).\n",
    "    \"\"\"\n",
    "    qrs_inds = processing.xqrs_detect(ecg_segment, fs=fs, verbose=False)\n",
    "    return qrs_inds\n",
    "\n",
    "def compute_rr_intervals(r_peaks, fs):\n",
    "    \"\"\"\n",
    "    Returns array of RR intervals in seconds.\n",
    "    \"\"\"\n",
    "    if len(r_peaks) < 2:\n",
    "        return np.array([])\n",
    "    rr_int = np.diff(r_peaks) / fs\n",
    "    return rr_int"
   ]
  },
  {
   "cell_type": "code",
   "execution_count": 13,
   "id": "e4dbb2b4-057d-414f-8db1-925a1ea42ad9",
   "metadata": {},
   "outputs": [],
   "source": [
    "def extract_hrv_features(rr_intervals):\n",
    "    \"\"\"\n",
    "    Returns a numpy array of the 8 features:\n",
    "      [MeanRR, RMSSD, pNN50, SDRR, CVRR, NN50, MinRR, MaxRR]\n",
    "    \"\"\"\n",
    "    if len(rr_intervals) < 2:\n",
    "        return np.zeros(8)\n",
    "    \n",
    "    mean_rr = np.mean(rr_intervals)\n",
    "    sdrr = np.std(rr_intervals)\n",
    "    \n",
    "    diff_rr = np.diff(rr_intervals)\n",
    "    rmssd = np.sqrt(np.mean(diff_rr**2)) if len(diff_rr) > 0 else 0\n",
    "    \n",
    "    # 50 ms threshold => 0.05 s\n",
    "    threshold = 0.05\n",
    "    nn50 = np.sum(np.abs(diff_rr) > threshold)\n",
    "    pnn50 = (nn50 / len(diff_rr)) * 100 if len(diff_rr) > 0 else 0\n",
    "    \n",
    "    cvrr = sdrr / mean_rr if mean_rr != 0 else 0\n",
    "    min_rr = np.min(rr_intervals)\n",
    "    max_rr = np.max(rr_intervals)\n",
    "    \n",
    "    return np.array([mean_rr, rmssd, pnn50, sdrr, cvrr, nn50, min_rr, max_rr])"
   ]
  },
  {
   "cell_type": "code",
   "execution_count": 14,
   "id": "bdd212f1-2b41-4457-a564-9d2ac44fad02",
   "metadata": {},
   "outputs": [],
   "source": [
    "def build_dataset(record_paths, label):\n",
    "    \"\"\"\n",
    "    record_paths: list of .hea file paths (without .hea extension),\n",
    "                  e.g., './SCD_data/XXXX'\n",
    "    label: 0 for NSR, 1 for SCD\n",
    "    \n",
    "    Returns:\n",
    "      X -> array of shape (num_segments, 8)  [8 HRV features]\n",
    "      y -> array of labels\n",
    "    \"\"\"\n",
    "    X, y = [], []\n",
    "    \n",
    "    for rec_path in record_paths:\n",
    "        # 1) Load ECG and unify sampling frequency at 128 Hz\n",
    "        ecg, fs = load_ecg_record(rec_path, desired_fs=128)  # Will downsample if 250 Hz\n",
    "        \n",
    "        # 2) Segment (5-minute blocks)\n",
    "        segments = segment_ecg_signal(ecg, fs, segment_length_sec=300)\n",
    "        \n",
    "        for seg in segments:\n",
    "            # a) Denoise\n",
    "            seg_denoised = wavelet_denoise(seg)\n",
    "            # b) Normalize\n",
    "            seg_norm = normalize_ecg_segment(seg_denoised)\n",
    "            # c) R-peak detection\n",
    "            r_peaks = detect_r_peaks(seg_norm, fs)\n",
    "            # d) RR intervals\n",
    "            rr_int = compute_rr_intervals(r_peaks, fs)\n",
    "            # e) HRV features\n",
    "            features = extract_hrv_features(rr_int)\n",
    "            \n",
    "            X.append(features)\n",
    "            y.append(label)\n",
    "    \n",
    "    return np.array(X), np.array(y)"
   ]
  },
  {
   "cell_type": "code",
   "execution_count": null,
   "id": "66293944-1bfc-4912-b0ed-c63e6966ac97",
   "metadata": {},
   "outputs": [],
   "source": [
    "X_scd, y_scd = build_dataset(sdd_records, label=1)"
   ]
  },
  {
   "cell_type": "code",
   "execution_count": null,
   "id": "7b1adf63-54d1-4c75-8eb8-d3db21820c61",
   "metadata": {},
   "outputs": [],
   "source": []
  }
 ],
 "metadata": {
  "kernelspec": {
   "display_name": "Python 3 (ipykernel)",
   "language": "python",
   "name": "python3"
  },
  "language_info": {
   "codemirror_mode": {
    "name": "ipython",
    "version": 3
   },
   "file_extension": ".py",
   "mimetype": "text/x-python",
   "name": "python",
   "nbconvert_exporter": "python",
   "pygments_lexer": "ipython3",
   "version": "3.12.4"
  }
 },
 "nbformat": 4,
 "nbformat_minor": 5
}
