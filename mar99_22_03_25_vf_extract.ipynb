{
 "cells": [
  {
   "cell_type": "code",
   "execution_count": 1,
   "id": "a9f04029-2151-4b63-8f1e-4203a7365f85",
   "metadata": {},
   "outputs": [],
   "source": [
    "import os"
   ]
  },
  {
   "cell_type": "code",
   "execution_count": 2,
   "id": "26e61264-8724-43d3-832a-060f2d8553d8",
   "metadata": {},
   "outputs": [],
   "source": [
    "def extract_vfon_time(hea_path):\n",
    "    \"\"\"\n",
    "    Search the .hea file for a line containing '#vfon:'.\n",
    "    Returns the substring after '#vfon:' (e.g. '07:54:33') or None if not found.\n",
    "    \"\"\"\n",
    "    with open(hea_path, 'r') as f:\n",
    "        for line in f:\n",
    "            if '#vfon:' in line:\n",
    "                # extract everything after '#vfon:'\n",
    "                vf_time = line.split('#vfon:')[-1].strip()\n",
    "                return vf_time\n",
    "    return None"
   ]
  },
  {
   "cell_type": "code",
   "execution_count": 3,
   "id": "4c637ff0-c2d5-4466-a48b-42dc57674160",
   "metadata": {},
   "outputs": [],
   "source": [
    "def build_vfon_dict(directory=\".data/scddb\"):\n",
    "    \"\"\"\n",
    "    Scans 'directory' for files ending with '.hea', extracts the #vfon value,\n",
    "    and stores it in a dict with keys of the form: '.data/scddb/<filename_no_ext>'.\n",
    "\n",
    "    Example:\n",
    "      If we find '30.hea' with '#vfon: 07:54:33',\n",
    "      then dict entry => {'.data/scddb/30': '07:54:33'}.\n",
    "    \"\"\"\n",
    "    record_vfon_map = {}\n",
    "    # List all files in the directory\n",
    "    for file_name in os.listdir(directory):\n",
    "        # Only process .hea files\n",
    "        if file_name.endswith(\".hea\"):\n",
    "            file_path = os.path.join(directory, file_name)\n",
    "            # Example: file_name = '30.hea' => record_name = '30'\n",
    "            record_name = file_name[:-4]\n",
    "\n",
    "            vf_time = extract_vfon_time(file_path)\n",
    "            if vf_time:\n",
    "                # e.g., '.data/scddb/30'\n",
    "                dict_key = os.path.join(directory, record_name)\n",
    "                record_vfon_map[dict_key] = vf_time\n",
    "    return record_vfon_map"
   ]
  },
  {
   "cell_type": "code",
   "execution_count": 9,
   "id": "a39e8d2f-4cec-414e-b87d-71f3cfefe9cf",
   "metadata": {},
   "outputs": [
    {
     "name": "stdout",
     "output_type": "stream",
     "text": [
      "Extracted VF onset times:\n",
      "\n",
      "./data/scddb/30: 07:54:33\n",
      "./data/scddb/31: 13:42:24\n",
      "./data/scddb/32: 16:45:18\n",
      "./data/scddb/33: 04:46:19\n",
      "./data/scddb/34: 06:35:44\n",
      "./data/scddb/35: 24:34:56\n",
      "./data/scddb/36: 18:59:01\n",
      "./data/scddb/37: 01:31:13\n",
      "./data/scddb/38: 08:01:54\n",
      "./data/scddb/39: 04:37:51\n",
      "./data/scddb/41: 02:59:24\n",
      "./data/scddb/43: 15:37:11\n",
      "./data/scddb/44: 19:38:45\n",
      "./data/scddb/45: 18:09:17\n",
      "./data/scddb/46: 03:41:47\n",
      "./data/scddb/47: 06:13:01\n",
      "./data/scddb/48: 02:29:40\n",
      "./data/scddb/50: 11:45:43\n",
      "./data/scddb/51: 22:58:23\n",
      "./data/scddb/52: 02:32:40\n"
     ]
    }
   ],
   "source": [
    "vfon_dict = build_vfon_dict(\"./data/scddb\")\n",
    "updated_data = {key.replace('\\\\', '/'): value for key, value in vfon_dict.items()}\n",
    "print(\"Extracted VF onset times:\\n\")\n",
    "for path_key, onset_time in updated_data.items():\n",
    "    print(f\"{path_key}: {onset_time}\")"
   ]
  },
  {
   "cell_type": "code",
   "execution_count": 10,
   "id": "569c70db-f784-4a2f-8a63-6cf464c036e3",
   "metadata": {},
   "outputs": [
    {
     "data": {
      "text/plain": [
       "{'./data/scddb/30': '07:54:33',\n",
       " './data/scddb/31': '13:42:24',\n",
       " './data/scddb/32': '16:45:18',\n",
       " './data/scddb/33': '04:46:19',\n",
       " './data/scddb/34': '06:35:44',\n",
       " './data/scddb/35': '24:34:56',\n",
       " './data/scddb/36': '18:59:01',\n",
       " './data/scddb/37': '01:31:13',\n",
       " './data/scddb/38': '08:01:54',\n",
       " './data/scddb/39': '04:37:51',\n",
       " './data/scddb/41': '02:59:24',\n",
       " './data/scddb/43': '15:37:11',\n",
       " './data/scddb/44': '19:38:45',\n",
       " './data/scddb/45': '18:09:17',\n",
       " './data/scddb/46': '03:41:47',\n",
       " './data/scddb/47': '06:13:01',\n",
       " './data/scddb/48': '02:29:40',\n",
       " './data/scddb/50': '11:45:43',\n",
       " './data/scddb/51': '22:58:23',\n",
       " './data/scddb/52': '02:32:40'}"
      ]
     },
     "execution_count": 10,
     "metadata": {},
     "output_type": "execute_result"
    }
   ],
   "source": [
    "updated_data"
   ]
  },
  {
   "cell_type": "code",
   "execution_count": null,
   "id": "d8aebc87-e914-4504-b2c9-d187af9c265d",
   "metadata": {},
   "outputs": [],
   "source": []
  }
 ],
 "metadata": {
  "kernelspec": {
   "display_name": "Python 3 (ipykernel)",
   "language": "python",
   "name": "python3"
  },
  "language_info": {
   "codemirror_mode": {
    "name": "ipython",
    "version": 3
   },
   "file_extension": ".py",
   "mimetype": "text/x-python",
   "name": "python",
   "nbconvert_exporter": "python",
   "pygments_lexer": "ipython3",
   "version": "3.12.8"
  }
 },
 "nbformat": 4,
 "nbformat_minor": 5
}
