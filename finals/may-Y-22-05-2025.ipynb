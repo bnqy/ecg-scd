{
 "cells": [
  {
   "cell_type": "code",
   "execution_count": 2,
   "id": "429a1566-f454-4070-abaa-172ecc4d6f05",
   "metadata": {},
   "outputs": [],
   "source": [
    "import wfdb\n",
    "import matplotlib.pyplot as plt\n",
    "import numpy as np\n",
    "import os\n",
    "from scipy.signal import medfilt\n",
    "import pywt\n",
    "from ecgdetectors import Detectors\n",
    "from scipy.signal import resample_poly\n",
    "import csv"
   ]
  },
  {
   "cell_type": "code",
   "execution_count": 4,
   "id": "e2c5ec68-c08e-4092-8ced-bce3411f6149",
   "metadata": {},
   "outputs": [],
   "source": [
    "scd_data = {\n",
    "     './data/scddb/30': '07:54:33',\n",
    "     './data/scddb/31': '13:42:24',\n",
    "     './data/scddb/32': '16:45:18',\n",
    "     './data/scddb/33': '04:46:19',\n",
    "     './data/scddb/34': '06:35:44',\n",
    "     './data/scddb/35': '24:34:56',\n",
    "     './data/scddb/36': '18:59:01',\n",
    "     './data/scddb/37': '01:31:13',\n",
    "     './data/scddb/38': '08:01:54',\n",
    "     './data/scddb/39': '04:37:51',\n",
    "     #'./data/scddb/40': '00:00:00', # paced, no VF\n",
    "     './data/scddb/41': '02:59:24', # not working properly\n",
    "     #'./data/scddb/42': '00:00:00', # no VF\n",
    "     './data/scddb/43': '15:37:11',\n",
    "     './data/scddb/44': '19:38:45',\n",
    "     './data/scddb/45': '18:09:17',\n",
    "     './data/scddb/46': '03:41:47',\n",
    "     './data/scddb/47': '06:13:01',\n",
    "     './data/scddb/48': '02:29:40',\n",
    "     #'./data/scddb/49': '00:00:00', # paced, no VF\n",
    "     './data/scddb/50': '11:45:43',\n",
    "     './data/scddb/51': '22:58:23',\n",
    "     './data/scddb/52': '02:32:40' # not working properly\n",
    "}"
   ]
  },
  {
   "cell_type": "code",
   "execution_count": 6,
   "id": "5e544a11-1440-4a73-a9f0-fa583b2cea10",
   "metadata": {},
   "outputs": [],
   "source": [
    "# H:M:S to seconds\n",
    "def hms_to_seconds(hms):\n",
    "    h, m, s = hms.split(':')\n",
    "    return int(h)*3600 + int(m)*60 + int(s)"
   ]
  },
  {
   "cell_type": "code",
   "execution_count": 8,
   "id": "f9920d18-a92a-4dd9-8b5c-7564868b020c",
   "metadata": {},
   "outputs": [],
   "source": [
    "def extract_before_onset_VF(vfon_dict, minutes_before=60, fs=250):\n",
    "    ecg_data_map = {} \n",
    "\n",
    "    for record_path, vf_onset_str in vfon_dict.items():\n",
    "        # record_path might be '.data/scddb/30'\n",
    "        record_dir, record_name = os.path.split(record_path)\n",
    "\n",
    "        # 2) Convert dictionary's VF onset to seconds\n",
    "        vf_onset_original_sec = hms_to_seconds(vf_onset_str)\n",
    "\n",
    "        vfon_onset_original_sample = vf_onset_original_sec * fs\n",
    "\n",
    "        seg_len_samples = int(minutes_before * 60 * fs)\n",
    "\n",
    "        start_sample = vfon_onset_original_sample - seg_len_samples\n",
    "\n",
    "         # read .dat between those sample indices\n",
    "        try:\n",
    "            #record_dat_path = os.path.join(record_dir, record_name)  # base path\n",
    "            record_path_dat = os.path.join(record_dir, record_name)\n",
    "            segment = wfdb.rdrecord(record_path_dat, sampfrom=start_sample, sampto=vfon_onset_original_sample)\n",
    "            \n",
    "        except Exception as e:\n",
    "            print(f\"[ERROR] Failed to read record {record_dat_path}: {e}\")\n",
    "            continue\n",
    "\n",
    "        # Retrieve the raw signal data as a NumPy array\n",
    "        if segment.p_signal is not None:\n",
    "            arr = segment.p_signal[:,0]\n",
    "            ecg_data_map[record_name] = arr\n",
    "            print(f\"[OK] Extracted 60-min for {record_name}: shape={arr.shape}\")\n",
    "        else:\n",
    "            print(f\"[WARNING] No p_signal found for {record_name}\")\n",
    "\n",
    "    return ecg_data_map"
   ]
  },
  {
   "cell_type": "code",
   "execution_count": 10,
   "id": "4439c5a8-d54a-4d13-b107-9003f4a8c959",
   "metadata": {},
   "outputs": [],
   "source": [
    "def segment_ecg(ecg_segment, segment_duration_sec=600, fs=250):\n",
    "    samples_per_segment = segment_duration_sec * fs\n",
    "    segments = np.array_split(ecg_segment, len(ecg_segment) // samples_per_segment)\n",
    "    return segments"
   ]
  },
  {
   "cell_type": "code",
   "execution_count": 14,
   "id": "7d25df71-a517-4fb0-b8fa-0240445989e5",
   "metadata": {},
   "outputs": [],
   "source": [
    "def resample_ecg(ecg_signal, orig_fs, target_fs):\n",
    "    \"\"\"\n",
    "    Resample ECG signal from orig_fs to target_fs using polyphase filtering.\n",
    "    ecg_signal: 1D (or 2D) numpy array (samples x channels)\n",
    "    \"\"\"\n",
    "    # For example, if orig_fs=250, target_fs=128:\n",
    "    # up = 128, down = 250\n",
    "    up = target_fs\n",
    "    down = orig_fs\n",
    "\n",
    "    if ecg_signal.ndim == 1:\n",
    "        ecg_resampled = resample_poly(ecg_signal, up, down)\n",
    "    else:\n",
    "        # If multi-channel, resample each column\n",
    "        ecg_resampled = np.array([\n",
    "            resample_poly(ecg_signal[:, ch], up, down) \n",
    "            for ch in range(ecg_signal.shape[1])\n",
    "        ]).T\n",
    "\n",
    "    return ecg_resampled"
   ]
  },
  {
   "cell_type": "code",
   "execution_count": 16,
   "id": "63d49561-cc86-4ae7-ae5e-b46410ba5875",
   "metadata": {},
   "outputs": [],
   "source": [
    "def denoise_signal(X, dwt_transform, dlevels, cutoff_low, cutoff_high):\n",
    "    coeffs = pywt.wavedec(X, dwt_transform, level=dlevels)   # wavelet transform 'bior4.4'\n",
    "    # scale 0 to cutoff_low \n",
    "    for ca in range(0,cutoff_low):\n",
    "        coeffs[ca]=np.multiply(coeffs[ca],[0.0])\n",
    "    # scale cutoff_high to end\n",
    "    for ca in range(cutoff_high, len(coeffs)):\n",
    "        coeffs[ca]=np.multiply(coeffs[ca],[0.0])\n",
    "    Y = pywt.waverec(coeffs, dwt_transform) # inverse wavelet transform\n",
    "    return Y "
   ]
  },
  {
   "cell_type": "code",
   "execution_count": 18,
   "id": "a3ca018e-08bb-4bff-861e-88e290f7c067",
   "metadata": {},
   "outputs": [],
   "source": [
    "def r_peak_finder(ecg_sig):\n",
    "    BASIC_SRATE = 128\n",
    "    signal_pad_samples = 10\n",
    "    signal_pad = np.zeros(signal_pad_samples)  # Pad to help detect early peaks\n",
    "    scd_30_denoised_ = ...  # Your denoised 30-min ECG segment\n",
    "    \n",
    "    # Initialize the detectors at the given sampling rate\n",
    "    detector_obj = Detectors(BASIC_SRATE)\n",
    "    \n",
    "    # Dictionary of detector functions\n",
    "    detectors = {\n",
    "        'pan_tompkins_detector': detector_obj.pan_tompkins_detector,\n",
    "        'hamilton_detector': detector_obj.hamilton_detector,\n",
    "        'christov_detector': detector_obj.christov_detector,\n",
    "        'engzee_detector': detector_obj.engzee_detector,\n",
    "        'swt_detector': detector_obj.swt_detector,\n",
    "        'two_average_detector': detector_obj.two_average_detector,\n",
    "    }\n",
    "    \n",
    "    r_peaks = np.array(detector_obj.swt_detector(np.hstack((signal_pad, ecg_sig)) )) - signal_pad_samples\n",
    "    return r_peaks"
   ]
  },
  {
   "cell_type": "code",
   "execution_count": 20,
   "id": "216bbb3d-0f77-4168-807d-888d98a6ed41",
   "metadata": {},
   "outputs": [],
   "source": [
    "def compute_hrv_features(r_peaks, fs=128):\n",
    "    \"\"\"\n",
    "    Time-domain HRV features from R-peaks.\n",
    "    Returns a dict with:\n",
    "      MeanRR, RMSDD, pNN50, SDRR, CVRR, NN50, MinRR, MaxRR\n",
    "    \"\"\"\n",
    "    features = {\n",
    "        'MeanRR': 0.0,\n",
    "        'RMSDD': 0.0,\n",
    "        'MADRR': 0.0,\n",
    "        'MCVNN': 0.0,\n",
    "        'pNN20': 0.0,\n",
    "        'pNN50': 0.0,\n",
    "        'SDRR': 0.0,\n",
    "        'CVRR': 0.0,\n",
    "        'NN20': 0,\n",
    "        'NN50': 0,\n",
    "        'MinRR': 0.0,\n",
    "        'MaxRR': 0.0\n",
    "    }\n",
    "\n",
    "    rr_samples = np.diff(r_peaks)\n",
    "    rr_ms = (rr_samples / fs) * 1000.0  # convert to ms\n",
    "\n",
    "    mean_rr = np.mean(rr_ms)\n",
    "    sdrr = np.std(rr_ms, ddof=1) if len(rr_ms) > 1 else 0.0\n",
    "    min_rr = np.min(rr_ms)\n",
    "    max_rr = np.max(rr_ms)\n",
    "\n",
    "    rr_diffs = np.diff(rr_ms)\n",
    "    rmssd = np.sqrt(np.mean(rr_diffs**2)) if len(rr_diffs) > 0 else 0.0\n",
    "    nn50 = np.sum(np.abs(rr_diffs) > 50)\n",
    "    pnn50 = (nn50 / len(rr_diffs)) * 100 if len(rr_diffs) > 0 else 0.0\n",
    "    nn20 = np.sum(np.abs(rr_diffs) > 20)\n",
    "    pnn20 = (nn20 / len(rr_diffs)) * 100 if len(rr_diffs) > 0 else 0.0\n",
    "    cvrr = (sdrr / mean_rr * 100.0) if mean_rr else 0.0\n",
    "    madrr = np.median(np.abs(rr_ms - np.median(rr_ms)))\n",
    "    mcvnn = np.abs(rr_samples).mean()\n",
    "\n",
    "    features['MeanRR'] = mean_rr / 1000.0\n",
    "    features['RMSDD'] = rmssd / 1000.0\n",
    "    # new \n",
    "    features['MADRR'] = madrr / 1000.0\n",
    "    features['MCVNN'] = mcvnn / 1000.0 \n",
    "    features['pNN20'] = pnn20 / 1000.0\n",
    "    \n",
    "    \n",
    "    features['pNN50'] = pnn50 / 1000.0\n",
    "    features['SDRR'] = sdrr / 1000.0\n",
    "    features['CVRR'] = cvrr / 1000.0 \n",
    "    # new\n",
    "    features['NN20'] = nn20 / 1000.0\n",
    "    \n",
    "    features['NN50'] = nn50 / 1000.0\n",
    "    features['MinRR'] = min_rr / 1000.0 \n",
    "    features['MaxRR'] = max_rr / 1000.0\n",
    "    \n",
    "    return features"
   ]
  },
  {
   "cell_type": "code",
   "execution_count": 22,
   "id": "f27362d0-2ef6-48d2-b27a-f0a03e0f18f9",
   "metadata": {},
   "outputs": [],
   "source": [
    "label_map = [\"First\", \"Second\", \"Third\", \"Fourth\", \"Fifth\", \"Sixth\"]\n",
    "\n",
    "def save_hrv_to_csv(features_dict, csv_path):\n",
    "    \"\"\"\n",
    "    Save a single row of features_dict into a CSV at csv_path.\n",
    "    Overwrites if file exists.\n",
    "    Columns: [MeanRR, RMSDD, MADRR, MCVNN, pNN20, pNN50, SDRR, CVRR, NN20, NN50, MinRR, MaxRR]\n",
    "    \"\"\"\n",
    "    columns = [\"MeanRR\", \"RMSDD\", \"MADRR\", \"MCVNN\", \"pNN20\", \"pNN50\", \"SDRR\", \"CVRR\", \"NN20\", \"NN50\", \"MinRR\", \"MaxRR\"]\n",
    "    with open(csv_path, mode='w', newline='') as f:\n",
    "        writer = csv.DictWriter(f, fieldnames=columns)\n",
    "        writer.writeheader()\n",
    "        writer.writerow({col: features_dict[col] for col in columns})\n",
    "    print(f\"  -> Saved HRV features to {csv_path}\")"
   ]
  },
  {
   "cell_type": "code",
   "execution_count": null,
   "id": "6d181ab5-6ee3-4c63-b06b-cb241cf24759",
   "metadata": {},
   "outputs": [],
   "source": []
  },
  {
   "cell_type": "code",
   "execution_count": null,
   "id": "957c9668-0f6c-4079-9ba4-a93d1391e5c5",
   "metadata": {},
   "outputs": [],
   "source": []
  },
  {
   "cell_type": "code",
   "execution_count": 26,
   "id": "4f1c877d-39bc-4e16-88cf-9839038b492f",
   "metadata": {},
   "outputs": [],
   "source": [
    "def get_median_filter_width(sampling_rate, duration):\n",
    "    res = int( sampling_rate*duration )\n",
    "    res += ((res%2) - 1) # needs to be an odd number\n",
    "    return res"
   ]
  },
  {
   "cell_type": "code",
   "execution_count": 30,
   "id": "5dd6b414-f56d-4ee5-8cbd-99165bcaa680",
   "metadata": {},
   "outputs": [],
   "source": [
    "fs = 128\n",
    "ms_flt_array = [0.2,0.6]    #<-- length of baseline fitting filters (in seconds)\n",
    "mfa = np.zeros(len(ms_flt_array), dtype='int')\n",
    "for i in range(0, len(ms_flt_array)):\n",
    "    mfa[i] = get_median_filter_width(fs,ms_flt_array[i])"
   ]
  },
  {
   "cell_type": "code",
   "execution_count": 32,
   "id": "b6fcc21d-9090-4978-a702-3101e7cfc5d3",
   "metadata": {},
   "outputs": [],
   "source": [
    "def filter_signal(X):\n",
    "    global mfa\n",
    "    X0 = X  #read orignal signal\n",
    "    for mi in range(0,len(mfa)):\n",
    "        X0 = medfilt(X0,mfa[mi]) # apply median filter one by one on top of each other\n",
    "    X0 = np.subtract(X,X0)  # finally subtract from orignal signal\n",
    "    return X0"
   ]
  },
  {
   "cell_type": "code",
   "execution_count": null,
   "id": "b3963c13-a5a6-43da-a2f8-9b0dffe59e10",
   "metadata": {},
   "outputs": [],
   "source": []
  },
  {
   "cell_type": "code",
   "execution_count": null,
   "id": "17aa20e3-4e94-49d6-b1bd-dc2b1d2f44b3",
   "metadata": {},
   "outputs": [],
   "source": []
  },
  {
   "cell_type": "code",
   "execution_count": 36,
   "id": "95957cbb-bc8e-4d19-af98-9b7bea18cc14",
   "metadata": {},
   "outputs": [
    {
     "ename": "NameError",
     "evalue": "name 'record_dat_path' is not defined",
     "output_type": "error",
     "traceback": [
      "\u001b[1;31m---------------------------------------------------------------------------\u001b[0m",
      "\u001b[1;31mFileNotFoundError\u001b[0m                         Traceback (most recent call last)",
      "Cell \u001b[1;32mIn[8], line 21\u001b[0m, in \u001b[0;36mextract_before_onset_VF\u001b[1;34m(vfon_dict, minutes_before, fs)\u001b[0m\n\u001b[0;32m     20\u001b[0m     record_path_dat \u001b[38;5;241m=\u001b[39m os\u001b[38;5;241m.\u001b[39mpath\u001b[38;5;241m.\u001b[39mjoin(record_dir, record_name)\n\u001b[1;32m---> 21\u001b[0m     segment \u001b[38;5;241m=\u001b[39m wfdb\u001b[38;5;241m.\u001b[39mrdrecord(record_path_dat, sampfrom\u001b[38;5;241m=\u001b[39mstart_sample, sampto\u001b[38;5;241m=\u001b[39mvfon_onset_original_sample)\n\u001b[0;32m     23\u001b[0m \u001b[38;5;28;01mexcept\u001b[39;00m \u001b[38;5;167;01mException\u001b[39;00m \u001b[38;5;28;01mas\u001b[39;00m e:\n",
      "File \u001b[1;32m~\\anaconda3\\Lib\\site-packages\\wfdb\\io\\record.py:2029\u001b[0m, in \u001b[0;36mrdrecord\u001b[1;34m(record_name, sampfrom, sampto, channels, physical, pn_dir, m2s, smooth_frames, ignore_skew, return_res, force_channels, channel_names, warn_empty)\u001b[0m\n\u001b[0;32m   2025\u001b[0m     pn_dir \u001b[38;5;241m=\u001b[39m posixpath\u001b[38;5;241m.\u001b[39mjoin(\n\u001b[0;32m   2026\u001b[0m         dir_list[\u001b[38;5;241m0\u001b[39m], download\u001b[38;5;241m.\u001b[39mget_version(dir_list[\u001b[38;5;241m0\u001b[39m]), \u001b[38;5;241m*\u001b[39mdir_list[\u001b[38;5;241m1\u001b[39m:]\n\u001b[0;32m   2027\u001b[0m     )\n\u001b[1;32m-> 2029\u001b[0m record \u001b[38;5;241m=\u001b[39m rdheader(record_name, pn_dir\u001b[38;5;241m=\u001b[39mpn_dir, rd_segments\u001b[38;5;241m=\u001b[39m\u001b[38;5;28;01mFalse\u001b[39;00m)\n\u001b[0;32m   2031\u001b[0m \u001b[38;5;66;03m# Set defaults for sampto and channels input variables\u001b[39;00m\n",
      "File \u001b[1;32m~\\anaconda3\\Lib\\site-packages\\wfdb\\io\\record.py:1839\u001b[0m, in \u001b[0;36mrdheader\u001b[1;34m(record_name, pn_dir, rd_segments)\u001b[0m\n\u001b[0;32m   1838\u001b[0m \u001b[38;5;28;01mif\u001b[39;00m pn_dir \u001b[38;5;129;01mis\u001b[39;00m \u001b[38;5;28;01mNone\u001b[39;00m:\n\u001b[1;32m-> 1839\u001b[0m     \u001b[38;5;28;01mwith\u001b[39;00m \u001b[38;5;28mopen\u001b[39m(\n\u001b[0;32m   1840\u001b[0m         os\u001b[38;5;241m.\u001b[39mpath\u001b[38;5;241m.\u001b[39mjoin(dir_name, file_name),\n\u001b[0;32m   1841\u001b[0m         \u001b[38;5;124m\"\u001b[39m\u001b[38;5;124mr\u001b[39m\u001b[38;5;124m\"\u001b[39m,\n\u001b[0;32m   1842\u001b[0m         encoding\u001b[38;5;241m=\u001b[39m\u001b[38;5;124m\"\u001b[39m\u001b[38;5;124mascii\u001b[39m\u001b[38;5;124m\"\u001b[39m,\n\u001b[0;32m   1843\u001b[0m         errors\u001b[38;5;241m=\u001b[39m\u001b[38;5;124m\"\u001b[39m\u001b[38;5;124mignore\u001b[39m\u001b[38;5;124m\"\u001b[39m,\n\u001b[0;32m   1844\u001b[0m     ) \u001b[38;5;28;01mas\u001b[39;00m f:\n\u001b[0;32m   1845\u001b[0m         header_content \u001b[38;5;241m=\u001b[39m f\u001b[38;5;241m.\u001b[39mread()\n",
      "\u001b[1;31mFileNotFoundError\u001b[0m: [Errno 2] No such file or directory: 'C:\\\\Users\\\\costa\\\\Desktop\\\\SCD\\\\ecg-scd\\\\finals\\\\data\\\\scddb\\\\30.hea'",
      "\nDuring handling of the above exception, another exception occurred:\n",
      "\u001b[1;31mNameError\u001b[0m                                 Traceback (most recent call last)",
      "Cell \u001b[1;32mIn[36], line 1\u001b[0m\n\u001b[1;32m----> 1\u001b[0m onsetVF_60min_scd \u001b[38;5;241m=\u001b[39m extract_before_onset_VF(scd_data, minutes_before\u001b[38;5;241m=\u001b[39m\u001b[38;5;241m60\u001b[39m, fs\u001b[38;5;241m=\u001b[39m\u001b[38;5;241m250\u001b[39m)\n",
      "Cell \u001b[1;32mIn[8], line 24\u001b[0m, in \u001b[0;36mextract_before_onset_VF\u001b[1;34m(vfon_dict, minutes_before, fs)\u001b[0m\n\u001b[0;32m     21\u001b[0m     segment \u001b[38;5;241m=\u001b[39m wfdb\u001b[38;5;241m.\u001b[39mrdrecord(record_path_dat, sampfrom\u001b[38;5;241m=\u001b[39mstart_sample, sampto\u001b[38;5;241m=\u001b[39mvfon_onset_original_sample)\n\u001b[0;32m     23\u001b[0m \u001b[38;5;28;01mexcept\u001b[39;00m \u001b[38;5;167;01mException\u001b[39;00m \u001b[38;5;28;01mas\u001b[39;00m e:\n\u001b[1;32m---> 24\u001b[0m     \u001b[38;5;28mprint\u001b[39m(\u001b[38;5;124mf\u001b[39m\u001b[38;5;124m\"\u001b[39m\u001b[38;5;124m[ERROR] Failed to read record \u001b[39m\u001b[38;5;132;01m{\u001b[39;00mrecord_dat_path\u001b[38;5;132;01m}\u001b[39;00m\u001b[38;5;124m: \u001b[39m\u001b[38;5;132;01m{\u001b[39;00me\u001b[38;5;132;01m}\u001b[39;00m\u001b[38;5;124m\"\u001b[39m)\n\u001b[0;32m     25\u001b[0m     \u001b[38;5;28;01mcontinue\u001b[39;00m\n\u001b[0;32m     27\u001b[0m \u001b[38;5;66;03m# Retrieve the raw signal data as a NumPy array\u001b[39;00m\n",
      "\u001b[1;31mNameError\u001b[0m: name 'record_dat_path' is not defined"
     ]
    }
   ],
   "source": [
    "onsetVF_60min_scd = extract_before_onset_VF(scd_data, minutes_before=60, fs=250)"
   ]
  },
  {
   "cell_type": "code",
   "execution_count": null,
   "id": "52f85a14-a38c-46ea-9226-1e3cd57f2353",
   "metadata": {},
   "outputs": [],
   "source": []
  }
 ],
 "metadata": {
  "kernelspec": {
   "display_name": "Python 3 (ipykernel)",
   "language": "python",
   "name": "python3"
  },
  "language_info": {
   "codemirror_mode": {
    "name": "ipython",
    "version": 3
   },
   "file_extension": ".py",
   "mimetype": "text/x-python",
   "name": "python",
   "nbconvert_exporter": "python",
   "pygments_lexer": "ipython3",
   "version": "3.12.4"
  }
 },
 "nbformat": 4,
 "nbformat_minor": 5
}
