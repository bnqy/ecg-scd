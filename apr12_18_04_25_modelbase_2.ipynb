{
 "cells": [
  {
   "cell_type": "code",
   "execution_count": 1,
   "id": "5a8ea6ea-8c8f-413f-8173-54efd750eedd",
   "metadata": {},
   "outputs": [],
   "source": [
    "\"\"\"\n",
    "Deep Learning Models for SCD vs NSR Classification\n",
    "==================================================\n",
    "\n",
    "This script assumes you have already:\n",
    "  1. Extracted six 5‑minute waveform segments per subject\n",
    "  2. Detected R‑peaks and computed 8 HRV time‑domain features for every segment\n",
    "  3. Saved each segment’s features in a CSV file with names such as:\n",
    "       SCD_<subject>_First_5_mins_before_SCD.csv\n",
    "       NSR_<subject>_First_5_min.csv\n",
    "\n",
    "We build three deep‑learning classifiers:\n",
    "  • MLP on HRV features (tabular)\n",
    "  • 1‑D CNN on raw ECG waveforms\n",
    "  • Hybrid CNN‑LSTM on raw ECG waveforms\n",
    "\n",
    "The code below shows:\n",
    "  • Loading feature CSVs into a DataFrame\n",
    "  • Label encoding (SCD=1, NSR=0)\n",
    "  • Train /     test split (first segment per subject for training, remaining for test)\n",
    "  • Training an MLP on features\n",
    "  • Building raw‑signal datasets from numpy arrays (ecg_arrays dict)\n",
    "  • CNN, LSTM, and CNN‑LSTM architectures\n",
    "  • Metrics: accuracy, precision, recall, F1, AUC\n",
    "\"\"\"\n",
    "\n",
    "import os\n",
    "import glob\n",
    "import numpy as np\n",
    "import pandas as pd\n",
    "from sklearn.model_selection import train_test_split\n",
    "from sklearn.preprocessing import StandardScaler\n",
    "from sklearn.metrics import (accuracy_score, precision_score, recall_score,\n",
    "                             f1_score, roc_auc_score, confusion_matrix, roc_curve)\n",
    "import tensorflow as tf\n",
    "from tensorflow.keras import layers, models"
   ]
  },
  {
   "cell_type": "code",
   "execution_count": 2,
   "id": "971f9fd5-c813-412b-9fb6-5b97e14afb60",
   "metadata": {},
   "outputs": [],
   "source": [
    "############################################################\n",
    "# 1. LOAD HRV FEATURE CSVs (tabular dataset)\n",
    "############################################################\n",
    "\n",
    "def load_feature_csvs(feature_dir):\n",
    "    \"\"\"Scan feature_dir for all CSV files, build a DataFrame with label.\"\"\"\n",
    "    rows = []\n",
    "    for csv_path in glob.glob(os.path.join(feature_dir, '*.csv')):\n",
    "        df = pd.read_csv(csv_path)\n",
    "        # Determine label from filename\n",
    "        fname = os.path.basename(csv_path)\n",
    "        label = 1 if fname.startswith('SCD') else 0  # SCD positive class\n",
    "        df['Label'] = label\n",
    "        rows.append(df)\n",
    "    if not rows:\n",
    "        raise ValueError(f\"No CSV files found in {feature_dir}\")\n",
    "    full_df = pd.concat(rows, ignore_index=True)\n",
    "    return full_df"
   ]
  },
  {
   "cell_type": "code",
   "execution_count": 3,
   "id": "ea0fb6bb-36c5-47dc-8dc3-e06a3070f696",
   "metadata": {},
   "outputs": [],
   "source": [
    "feature_dir_scd = 'SCD_Features_CSV_17apr'  # adjust if different\n",
    "feature_dir_nsr = 'NSR_Features_CSV_17apr'\n",
    "\n",
    "# Combine both directories\n",
    "feature_df = pd.concat([\n",
    "    load_feature_csvs(feature_dir_scd),\n",
    "    load_feature_csvs(feature_dir_nsr)\n",
    "], ignore_index=True)"
   ]
  },
  {
   "cell_type": "code",
   "execution_count": 4,
   "id": "2487f086-6f18-4822-854b-a250d1575988",
   "metadata": {},
   "outputs": [
    {
     "data": {
      "text/html": [
       "<div>\n",
       "<style scoped>\n",
       "    .dataframe tbody tr th:only-of-type {\n",
       "        vertical-align: middle;\n",
       "    }\n",
       "\n",
       "    .dataframe tbody tr th {\n",
       "        vertical-align: top;\n",
       "    }\n",
       "\n",
       "    .dataframe thead th {\n",
       "        text-align: right;\n",
       "    }\n",
       "</style>\n",
       "<table border=\"1\" class=\"dataframe\">\n",
       "  <thead>\n",
       "    <tr style=\"text-align: right;\">\n",
       "      <th></th>\n",
       "      <th>MeanRR</th>\n",
       "      <th>RMSDD</th>\n",
       "      <th>pNN50</th>\n",
       "      <th>SDRR</th>\n",
       "      <th>CVRR</th>\n",
       "      <th>NN50</th>\n",
       "      <th>MinRR</th>\n",
       "      <th>MaxRR</th>\n",
       "      <th>Label</th>\n",
       "    </tr>\n",
       "  </thead>\n",
       "  <tbody>\n",
       "    <tr>\n",
       "      <th>0</th>\n",
       "      <td>0.626046</td>\n",
       "      <td>0.456008</td>\n",
       "      <td>0.092662</td>\n",
       "      <td>0.305573</td>\n",
       "      <td>0.048810</td>\n",
       "      <td>0.442</td>\n",
       "      <td>0.257812</td>\n",
       "      <td>2.546875</td>\n",
       "      <td>1</td>\n",
       "    </tr>\n",
       "    <tr>\n",
       "      <th>1</th>\n",
       "      <td>0.676552</td>\n",
       "      <td>0.532766</td>\n",
       "      <td>0.091591</td>\n",
       "      <td>0.359284</td>\n",
       "      <td>0.053105</td>\n",
       "      <td>0.403</td>\n",
       "      <td>0.257812</td>\n",
       "      <td>2.328125</td>\n",
       "      <td>1</td>\n",
       "    </tr>\n",
       "    <tr>\n",
       "      <th>2</th>\n",
       "      <td>0.697758</td>\n",
       "      <td>0.924626</td>\n",
       "      <td>0.091569</td>\n",
       "      <td>0.676368</td>\n",
       "      <td>0.096934</td>\n",
       "      <td>0.391</td>\n",
       "      <td>0.257812</td>\n",
       "      <td>12.414062</td>\n",
       "      <td>1</td>\n",
       "    </tr>\n",
       "    <tr>\n",
       "      <th>3</th>\n",
       "      <td>0.649185</td>\n",
       "      <td>0.429469</td>\n",
       "      <td>0.093464</td>\n",
       "      <td>0.322436</td>\n",
       "      <td>0.049668</td>\n",
       "      <td>0.429</td>\n",
       "      <td>0.304688</td>\n",
       "      <td>2.781250</td>\n",
       "      <td>1</td>\n",
       "    </tr>\n",
       "    <tr>\n",
       "      <th>4</th>\n",
       "      <td>0.658207</td>\n",
       "      <td>0.522990</td>\n",
       "      <td>0.092511</td>\n",
       "      <td>0.371825</td>\n",
       "      <td>0.056491</td>\n",
       "      <td>0.420</td>\n",
       "      <td>0.257812</td>\n",
       "      <td>4.312500</td>\n",
       "      <td>1</td>\n",
       "    </tr>\n",
       "  </tbody>\n",
       "</table>\n",
       "</div>"
      ],
      "text/plain": [
       "     MeanRR     RMSDD     pNN50      SDRR      CVRR   NN50     MinRR  \\\n",
       "0  0.626046  0.456008  0.092662  0.305573  0.048810  0.442  0.257812   \n",
       "1  0.676552  0.532766  0.091591  0.359284  0.053105  0.403  0.257812   \n",
       "2  0.697758  0.924626  0.091569  0.676368  0.096934  0.391  0.257812   \n",
       "3  0.649185  0.429469  0.093464  0.322436  0.049668  0.429  0.304688   \n",
       "4  0.658207  0.522990  0.092511  0.371825  0.056491  0.420  0.257812   \n",
       "\n",
       "       MaxRR  Label  \n",
       "0   2.546875      1  \n",
       "1   2.328125      1  \n",
       "2  12.414062      1  \n",
       "3   2.781250      1  \n",
       "4   4.312500      1  "
      ]
     },
     "execution_count": 4,
     "metadata": {},
     "output_type": "execute_result"
    }
   ],
   "source": [
    "feature_df.head()"
   ]
  },
  {
   "cell_type": "code",
   "execution_count": 5,
   "id": "74faa5da-764d-4720-8b0d-d3c0af44dab4",
   "metadata": {},
   "outputs": [
    {
     "data": {
      "text/plain": [
       "(216, 9)"
      ]
     },
     "execution_count": 5,
     "metadata": {},
     "output_type": "execute_result"
    }
   ],
   "source": [
    "feature_df.shape"
   ]
  },
  {
   "cell_type": "code",
   "execution_count": 6,
   "id": "28255c5b-9655-4035-82df-4ae81f2603c4",
   "metadata": {},
   "outputs": [],
   "source": [
    "X = feature_df.drop(columns=['Label']).values\n",
    "y = feature_df['Label'].values"
   ]
  },
  {
   "cell_type": "code",
   "execution_count": 7,
   "id": "10f52c04-7ff7-4dae-baee-dc80b355cbbc",
   "metadata": {},
   "outputs": [
    {
     "data": {
      "text/plain": [
       "(216, 8)"
      ]
     },
     "execution_count": 7,
     "metadata": {},
     "output_type": "execute_result"
    }
   ],
   "source": [
    "X.shape"
   ]
  },
  {
   "cell_type": "code",
   "execution_count": 8,
   "id": "5221cd21-ac6a-4806-933e-189a5a81038c",
   "metadata": {},
   "outputs": [
    {
     "data": {
      "text/plain": [
       "(216,)"
      ]
     },
     "execution_count": 8,
     "metadata": {},
     "output_type": "execute_result"
    }
   ],
   "source": [
    "y.shape"
   ]
  },
  {
   "cell_type": "code",
   "execution_count": 9,
   "id": "a4062b44-52f7-4eaa-ad52-95db0f352b05",
   "metadata": {},
   "outputs": [
    {
     "data": {
      "text/plain": [
       "array([[ 0.62604603,  0.45600803,  0.09266247, ...,  0.442     ,\n",
       "         0.2578125 ,  2.546875  ],\n",
       "       [ 0.67655187,  0.53276556,  0.09159091, ...,  0.403     ,\n",
       "         0.2578125 ,  2.328125  ],\n",
       "       [ 0.69775847,  0.92462642,  0.09156909, ...,  0.391     ,\n",
       "         0.2578125 , 12.4140625 ],\n",
       "       ...,\n",
       "       [ 0.56524253,  0.25053621,  0.0634981 , ...,  0.334     ,\n",
       "         0.140625  ,  1.6328125 ],\n",
       "       [ 0.59388951,  0.34207519,  0.07296223, ...,  0.367     ,\n",
       "         0.125     ,  3.375     ],\n",
       "       [ 0.56227889,  0.25644796,  0.06332703, ...,  0.335     ,\n",
       "         0.1875    ,  1.625     ]])"
      ]
     },
     "execution_count": 9,
     "metadata": {},
     "output_type": "execute_result"
    }
   ],
   "source": [
    "X"
   ]
  },
  {
   "cell_type": "code",
   "execution_count": 10,
   "id": "0d29bb88-37aa-4c42-b7de-cf6a6cc0de85",
   "metadata": {},
   "outputs": [],
   "source": [
    "scaler = StandardScaler()\n",
    "X_scaled = scaler.fit_transform(X)"
   ]
  },
  {
   "cell_type": "code",
   "execution_count": 12,
   "id": "fad49997-8b05-44d8-b069-4f32e7a6780f",
   "metadata": {},
   "outputs": [
    {
     "data": {
      "text/plain": [
       "(216, 8)"
      ]
     },
     "execution_count": 12,
     "metadata": {},
     "output_type": "execute_result"
    }
   ],
   "source": [
    "X_scaled.shape"
   ]
  },
  {
   "cell_type": "code",
   "execution_count": 13,
   "id": "4470b53e-c49d-40bf-8c65-1988caeb3565",
   "metadata": {},
   "outputs": [
    {
     "data": {
      "text/plain": [
       "array([[-0.3241981 , -0.33749618,  0.56370447, ...,  0.28709251,\n",
       "         0.0982257 , -0.3516292 ],\n",
       "       [-0.2292385 , -0.29918953,  0.48538361, ...,  0.06600582,\n",
       "         0.0982257 , -0.36713535],\n",
       "       [-0.18936647, -0.10362725,  0.4837886 , ..., -0.00202085,\n",
       "         0.0982257 ,  0.34780906],\n",
       "       ...,\n",
       "       [-0.43851905, -0.44003904, -1.56792514, ..., -0.32514755,\n",
       "        -1.06327533, -0.41642276],\n",
       "       [-0.38465784, -0.39435555, -0.87619027, ..., -0.1380742 ,\n",
       "        -1.21814213, -0.29292733],\n",
       "       [-0.44409119, -0.43708872, -1.58042844, ..., -0.31947866,\n",
       "        -0.59867491, -0.41697656]])"
      ]
     },
     "execution_count": 13,
     "metadata": {},
     "output_type": "execute_result"
    }
   ],
   "source": [
    "X_scaled"
   ]
  },
  {
   "cell_type": "code",
   "execution_count": 14,
   "id": "6ee00cc8-42e1-4968-b56a-c78d670df895",
   "metadata": {},
   "outputs": [],
   "source": [
    "X_train, X_test, y_train, y_test = train_test_split(\n",
    "    X_scaled, y, test_size=0.2, random_state=42, stratify=y)"
   ]
  },
  {
   "cell_type": "code",
   "execution_count": 15,
   "id": "53067112-0924-4c5e-b817-b8afcda97091",
   "metadata": {},
   "outputs": [
    {
     "data": {
      "text/plain": [
       "(172, 8)"
      ]
     },
     "execution_count": 15,
     "metadata": {},
     "output_type": "execute_result"
    }
   ],
   "source": [
    "X_train.shape"
   ]
  },
  {
   "cell_type": "code",
   "execution_count": 16,
   "id": "20a59e5b-505b-494f-86ae-426d67d9966a",
   "metadata": {},
   "outputs": [
    {
     "data": {
      "text/plain": [
       "(44, 8)"
      ]
     },
     "execution_count": 16,
     "metadata": {},
     "output_type": "execute_result"
    }
   ],
   "source": [
    "X_test.shape"
   ]
  },
  {
   "cell_type": "code",
   "execution_count": 17,
   "id": "a9c23df9-c67b-4d53-a9c4-d587055f9c3b",
   "metadata": {},
   "outputs": [
    {
     "data": {
      "text/plain": [
       "8"
      ]
     },
     "execution_count": 17,
     "metadata": {},
     "output_type": "execute_result"
    }
   ],
   "source": [
    "X_train.shape[1]"
   ]
  },
  {
   "cell_type": "code",
   "execution_count": 18,
   "id": "1481ecb9-a3b1-48aa-ae9b-cb0a382aa784",
   "metadata": {},
   "outputs": [
    {
     "name": "stderr",
     "output_type": "stream",
     "text": [
      "C:\\Users\\Lenovo\\anaconda3\\envs\\notebook\\Lib\\site-packages\\keras\\src\\layers\\core\\dense.py:87: UserWarning: Do not pass an `input_shape`/`input_dim` argument to a layer. When using Sequential models, prefer using an `Input(shape)` object as the first layer in the model instead.\n",
      "  super().__init__(activity_regularizer=activity_regularizer, **kwargs)\n"
     ]
    }
   ],
   "source": [
    "############################################################\n",
    "# 2. MLP MODEL FOR TABULAR FEATURES\n",
    "############################################################\n",
    "\n",
    "mlp_model = models.Sequential([\n",
    "    layers.Dense(32, activation='relu', input_shape=(X_train.shape[1],)),\n",
    "    layers.Dropout(0.3),\n",
    "    layers.Dense(16, activation='relu'),\n",
    "    layers.Dense(1, activation='sigmoid')\n",
    "])"
   ]
  },
  {
   "cell_type": "code",
   "execution_count": 19,
   "id": "f4dae0ab-8222-407e-85d8-d0e9bb0a2290",
   "metadata": {},
   "outputs": [
    {
     "data": {
      "text/plain": [
       "<keras.src.callbacks.history.History at 0x1720e0cabd0>"
      ]
     },
     "execution_count": 19,
     "metadata": {},
     "output_type": "execute_result"
    }
   ],
   "source": [
    "mlp_model.compile(optimizer='adam', loss='binary_crossentropy', metrics=['accuracy'])\n",
    "mlp_model.fit(X_train, y_train, epochs=50, batch_size=16, validation_split=0.1, verbose=0)"
   ]
  },
  {
   "cell_type": "code",
   "execution_count": 20,
   "id": "5aeffabe-c8a1-4743-a7ee-3c197111a20c",
   "metadata": {},
   "outputs": [
    {
     "name": "stdout",
     "output_type": "stream",
     "text": [
      "\u001b[1m2/2\u001b[0m \u001b[32m━━━━━━━━━━━━━━━━━━━━\u001b[0m\u001b[37m\u001b[0m \u001b[1m0s\u001b[0m 106ms/step\n"
     ]
    }
   ],
   "source": [
    "y_prob_mlp = mlp_model.predict(X_test).ravel()\n",
    "y_pred_mlp = (y_prob_mlp >= 0.5).astype(int)"
   ]
  },
  {
   "cell_type": "code",
   "execution_count": 21,
   "id": "8f875af7-9184-4e54-b399-ef78d8d31bda",
   "metadata": {},
   "outputs": [
    {
     "name": "stdout",
     "output_type": "stream",
     "text": [
      "MLP Metrics:\n",
      "  Accuracy : 0.9772727272727273\n",
      "  Precision: 0.9565217391304348\n",
      "  Recall   : 1.0\n",
      "  F1‑score : 0.9777777777777777\n",
      "  AUC‑ROC  : 0.9979338842975207\n"
     ]
    }
   ],
   "source": [
    "print(\"MLP Metrics:\")\n",
    "print(\"  Accuracy :\", accuracy_score(y_test, y_pred_mlp))\n",
    "print(\"  Precision:\", precision_score(y_test, y_pred_mlp))\n",
    "print(\"  Recall   :\", recall_score(y_test, y_pred_mlp))\n",
    "print(\"  F1‑score :\", f1_score(y_test, y_pred_mlp))\n",
    "print(\"  AUC‑ROC  :\", roc_auc_score(y_test, y_prob_mlp))"
   ]
  },
  {
   "cell_type": "code",
   "execution_count": null,
   "id": "06f9fe50-10a3-4b49-8984-a5f8eb3f6931",
   "metadata": {},
   "outputs": [],
   "source": []
  }
 ],
 "metadata": {
  "kernelspec": {
   "display_name": "Python 3 (ipykernel)",
   "language": "python",
   "name": "python3"
  },
  "language_info": {
   "codemirror_mode": {
    "name": "ipython",
    "version": 3
   },
   "file_extension": ".py",
   "mimetype": "text/x-python",
   "name": "python",
   "nbconvert_exporter": "python",
   "pygments_lexer": "ipython3",
   "version": "3.12.8"
  }
 },
 "nbformat": 4,
 "nbformat_minor": 5
}
