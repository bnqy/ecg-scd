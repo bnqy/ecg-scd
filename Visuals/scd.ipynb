{
 "cells": [
  {
   "cell_type": "code",
   "execution_count": 1,
   "id": "cbb61da8-3a33-4d3f-aefe-bfc7c88285de",
   "metadata": {},
   "outputs": [],
   "source": [
    "import wfdb\n",
    "import matplotlib.pyplot as plt\n",
    "import numpy as np\n",
    "import os\n",
    "from scipy.signal import medfilt\n",
    "import pywt\n",
    "from ecgdetectors import Detectors\n",
    "from scipy.signal import resample_poly"
   ]
  },
  {
   "cell_type": "code",
   "execution_count": 4,
   "id": "d00c1eb5-c967-4c56-9b3a-52034030d98b",
   "metadata": {},
   "outputs": [],
   "source": [
    "scd_data = {\n",
    " './data/scddb/30': '07:54:33',\n",
    " './data/scddb/31': '13:42:24',\n",
    " './data/scddb/32': '16:45:18',\n",
    " './data/scddb/33': '04:46:19',\n",
    " './data/scddb/34': '06:35:44',\n",
    " './data/scddb/35': '24:34:56',\n",
    " './data/scddb/36': '18:59:01',\n",
    " './data/scddb/37': '01:31:13',\n",
    " './data/scddb/38': '08:01:54',\n",
    " './data/scddb/39': '04:37:51',\n",
    " './data/scddb/41': '02:59:24',\n",
    " './data/scddb/43': '15:37:11',\n",
    " './data/scddb/44': '19:38:45',\n",
    " './data/scddb/45': '18:09:17',\n",
    " './data/scddb/46': '03:41:47',\n",
    " './data/scddb/47': '06:13:01',\n",
    " './data/scddb/48': '02:29:40',\n",
    " './data/scddb/50': '11:45:43',\n",
    " './data/scddb/51': '22:58:23',\n",
    " './data/scddb/52': '02:32:40'}"
   ]
  },
  {
   "cell_type": "code",
   "execution_count": 5,
   "id": "35b4e7e9-2bf7-4359-bbb6-b64da9f9a885",
   "metadata": {},
   "outputs": [],
   "source": [
    "fs=250"
   ]
  },
  {
   "cell_type": "code",
   "execution_count": 6,
   "id": "00f41939-6add-4e5f-a6f7-8b9fa922dc82",
   "metadata": {},
   "outputs": [],
   "source": [
    "def hms_to_seconds(hms):\n",
    "    h, m, s = hms.split(':')\n",
    "    return int(h)*3600 + int(m)*60 + int(s)\n",
    "\n",
    "def extract_before_onset_VF(vfon_dict, minutes_before=30):\n",
    "    ecg_data_map = {} \n",
    "\n",
    "    for record_path, vf_onset_str in vfon_dict.items():\n",
    "        # record_path might be '.data/scddb/30'\n",
    "        record_dir, record_name = os.path.split(record_path)\n",
    "\n",
    "        # 2) Convert dictionary's VF onset to seconds\n",
    "        vf_onset_original_sec = hms_to_seconds(vf_onset_str)\n",
    "\n",
    "        vfon_onset_original_sample = vf_onset_original_sec * fs\n",
    "\n",
    "        seg_len_samples = int(minutes_before * 60 * fs)\n",
    "\n",
    "        start_sample = vfon_onset_original_sample - seg_len_samples\n",
    "\n",
    "         # read .dat between those sample indices\n",
    "        try:\n",
    "            #record_dat_path = os.path.join(record_dir, record_name)  # base path\n",
    "            record_path_dat = os.path.join(record_dir, record_name)\n",
    "            segment = wfdb.rdrecord(record_path_dat, sampfrom=start_sample, sampto=vfon_onset_original_sample)\n",
    "            \n",
    "        except Exception as e:\n",
    "            print(f\"[ERROR] Failed to read record {record_dat_path}: {e}\")\n",
    "            continue\n",
    "\n",
    "        # Retrieve the raw signal data as a NumPy array\n",
    "        if segment.p_signal is not None:\n",
    "            arr = segment.p_signal[:,0]\n",
    "            ecg_data_map[record_name] = arr\n",
    "            print(f\"[OK] Extracted 30-min for {record_name}: shape={arr.shape}\")\n",
    "        else:\n",
    "            print(f\"[WARNING] No p_signal found for {record_name}\")\n",
    "\n",
    "    return ecg_data_map\n",
    "\n",
    "def segment_ecg(ecg_segment, segment_duration_sec=300, fs=250):\n",
    "    samples_per_segment = segment_duration_sec * fs\n",
    "    segments = np.array_split(ecg_segment, len(ecg_segment) // samples_per_segment)\n",
    "    return segments"
   ]
  },
  {
   "cell_type": "code",
   "execution_count": null,
   "id": "99aa832f-4999-4756-b627-b8e75e5fac2c",
   "metadata": {},
   "outputs": [],
   "source": [
    "onsetVF_30min_scd = extract_before_onset_VF(scd_data, minutes_before=30)\n",
    "onset30_6segments_5mins = segment_ecg(onsetVF_30min_scd['30'])\n",
    "first_5min_of30 = onset30_6segments_5mins[5]"
   ]
  },
  {
   "cell_type": "code",
   "execution_count": null,
   "id": "169220b7-8ec3-49cb-8fbf-3327dc28c5ae",
   "metadata": {},
   "outputs": [],
   "source": []
  }
 ],
 "metadata": {
  "kernelspec": {
   "display_name": "Python 3 (ipykernel)",
   "language": "python",
   "name": "python3"
  },
  "language_info": {
   "codemirror_mode": {
    "name": "ipython",
    "version": 3
   },
   "file_extension": ".py",
   "mimetype": "text/x-python",
   "name": "python",
   "nbconvert_exporter": "python",
   "pygments_lexer": "ipython3",
   "version": "3.12.8"
  }
 },
 "nbformat": 4,
 "nbformat_minor": 5
}
