{
 "cells": [
  {
   "cell_type": "code",
   "execution_count": 13,
   "id": "f7bf944a-4f54-4e68-b7b5-630a16792727",
   "metadata": {},
   "outputs": [],
   "source": [
    "import os\n",
    "import numpy as np\n",
    "import pandas as pd\n",
    "import matplotlib.pyplot as plt\n",
    "import seaborn as sns\n",
    "import glob\n",
    "from scipy.signal import resample_poly, butter, filtfilt\n",
    "from wfdb import rdrecord, processing\n",
    "import pywt"
   ]
  },
  {
   "cell_type": "code",
   "execution_count": 5,
   "id": "013b1f34-7a3d-4605-b6f7-112af9c60776",
   "metadata": {},
   "outputs": [],
   "source": [
    "nsr_files = glob.glob(\"./data/nsrdb/*.hea\")\n",
    "nsr_records = [f[:-4] for f in nsr_files]"
   ]
  },
  {
   "cell_type": "code",
   "execution_count": 7,
   "id": "8081d9ca-fcda-4767-a30b-a2ff08bb0c51",
   "metadata": {},
   "outputs": [
    {
     "data": {
      "text/plain": [
       "['./data/nsrdb\\\\16265',\n",
       " './data/nsrdb\\\\16272',\n",
       " './data/nsrdb\\\\16273',\n",
       " './data/nsrdb\\\\16420',\n",
       " './data/nsrdb\\\\16483',\n",
       " './data/nsrdb\\\\16539',\n",
       " './data/nsrdb\\\\16773',\n",
       " './data/nsrdb\\\\16786',\n",
       " './data/nsrdb\\\\16795',\n",
       " './data/nsrdb\\\\17052',\n",
       " './data/nsrdb\\\\17453',\n",
       " './data/nsrdb\\\\18177',\n",
       " './data/nsrdb\\\\18184',\n",
       " './data/nsrdb\\\\19088',\n",
       " './data/nsrdb\\\\19090',\n",
       " './data/nsrdb\\\\19093',\n",
       " './data/nsrdb\\\\19140',\n",
       " './data/nsrdb\\\\19830']"
      ]
     },
     "execution_count": 7,
     "metadata": {},
     "output_type": "execute_result"
    }
   ],
   "source": [
    "nsr_records"
   ]
  },
  {
   "cell_type": "code",
   "execution_count": 9,
   "id": "989f5bce-822d-4cf6-8496-748b24a55972",
   "metadata": {},
   "outputs": [],
   "source": [
    "nsr_records = [f.replace(\"\\\\\", \"/\")[:-4] for f in nsr_files]"
   ]
  },
  {
   "cell_type": "code",
   "execution_count": 11,
   "id": "f6e6980e-5ef4-4bbc-9ff4-04ffe9b5ecad",
   "metadata": {},
   "outputs": [
    {
     "data": {
      "text/plain": [
       "['./data/nsrdb/16265',\n",
       " './data/nsrdb/16272',\n",
       " './data/nsrdb/16273',\n",
       " './data/nsrdb/16420',\n",
       " './data/nsrdb/16483',\n",
       " './data/nsrdb/16539',\n",
       " './data/nsrdb/16773',\n",
       " './data/nsrdb/16786',\n",
       " './data/nsrdb/16795',\n",
       " './data/nsrdb/17052',\n",
       " './data/nsrdb/17453',\n",
       " './data/nsrdb/18177',\n",
       " './data/nsrdb/18184',\n",
       " './data/nsrdb/19088',\n",
       " './data/nsrdb/19090',\n",
       " './data/nsrdb/19093',\n",
       " './data/nsrdb/19140',\n",
       " './data/nsrdb/19830']"
      ]
     },
     "execution_count": 11,
     "metadata": {},
     "output_type": "execute_result"
    }
   ],
   "source": [
    "nsr_records"
   ]
  },
  {
   "cell_type": "code",
   "execution_count": null,
   "id": "707b42da-c893-4104-844a-46fd7ce8b304",
   "metadata": {},
   "outputs": [],
   "source": []
  },
  {
   "cell_type": "code",
   "execution_count": null,
   "id": "4018f10a-d365-4538-9930-8248f2345f98",
   "metadata": {},
   "outputs": [],
   "source": []
  },
  {
   "cell_type": "markdown",
   "id": "8f5bc350-5422-47c9-b349-8f7fff4bd89f",
   "metadata": {},
   "source": [
    "# Load ECG data"
   ]
  },
  {
   "cell_type": "code",
   "execution_count": 18,
   "id": "008f0fdd-afdd-4973-a117-f1b139a6f044",
   "metadata": {},
   "outputs": [],
   "source": [
    "def load_ecg_record(record_path, desired_fs=128, channel=0):\n",
    "    \"\"\"\n",
    "    Loads an ECG record using wfdb.\n",
    "    If the record's sampling frequency is 250 Hz, downsample to 128 Hz.\n",
    "    If it's already 128 Hz, leave it as is.\n",
    "    Returns:\n",
    "      ecg: numpy array\n",
    "      fs: final sampling frequency (should be 128 Hz if we unify everything)\n",
    "    \"\"\"\n",
    "    record = rdrecord(record_path, channels=[channel])\n",
    "    fs_original = record.fs\n",
    "    ecg = record.p_signal[:, 0]\n",
    "    \n",
    "    if fs_original == desired_fs:\n",
    "        # Already at 128 Hz\n",
    "        return ecg, fs_original\n",
    "    \n",
    "    else:\n",
    "        # If you encounter any other fs, handle similarly or raise an exception\n",
    "        raise ValueError(f\"Unexpected sampling frequency: {fs_original} Hz. \"\n",
    "                         f\"Expected 128 or 250.\")"
   ]
  },
  {
   "cell_type": "code",
   "execution_count": 20,
   "id": "a10e9d9b-1de5-447e-8053-068fb6722e3b",
   "metadata": {},
   "outputs": [],
   "source": [
    "def segment_ecg_signal(ecg, fs, segment_length_sec=300):\n",
    "    \"\"\"\n",
    "    Splits the ECG into 5-minute segments (300 seconds).\n",
    "    Returns a list of segments (each is a numpy array).\n",
    "    \"\"\"\n",
    "    samples_per_segment = int(segment_length_sec * fs)\n",
    "    segments = []\n",
    "    start = 0\n",
    "    \n",
    "    # We'll create as many 5-min segments as possible\n",
    "    # If you specifically want exactly 6 segments from 30 min,\n",
    "    # ensure you have a 30-min signal. Otherwise, handle partial.\n",
    "    while start + samples_per_segment <= len(ecg):\n",
    "        end = start + samples_per_segment\n",
    "        seg = ecg[start:end]\n",
    "        segments.append(seg)\n",
    "        start = end\n",
    "    \n",
    "    return segments"
   ]
  },
  {
   "cell_type": "code",
   "execution_count": 22,
   "id": "b600e138-83c1-4337-9a3e-72f4bbfaba86",
   "metadata": {},
   "outputs": [],
   "source": [
    "def denoise_signal_2(X, dwt_transform, dlevels, cutoff_low, cutoff_high):\n",
    "    coeffs = pywt.wavedec(X, dwt_transform, level=dlevels)   # wavelet transform 'bior4.4'\n",
    "    # scale 0 to cutoff_low \n",
    "    for ca in range(0,cutoff_low):\n",
    "        coeffs[ca]=np.multiply(coeffs[ca],[0.0])\n",
    "    # scale cutoff_high to end\n",
    "    for ca in range(cutoff_high, len(coeffs)):\n",
    "        coeffs[ca]=np.multiply(coeffs[ca],[0.0])\n",
    "    Y = pywt.waverec(coeffs, dwt_transform) # inverse wavelet transform\n",
    "    return Y  "
   ]
  },
  {
   "cell_type": "code",
   "execution_count": null,
   "id": "a3c2be1d-29d7-444c-9b6c-2cf56d217eab",
   "metadata": {},
   "outputs": [],
   "source": []
  },
  {
   "cell_type": "code",
   "execution_count": null,
   "id": "97ab1124-275f-4a02-bf75-cf39c44ff9c9",
   "metadata": {},
   "outputs": [],
   "source": []
  },
  {
   "cell_type": "markdown",
   "id": "31593d77-429c-468f-a72f-9a6113bd21fb",
   "metadata": {},
   "source": [
    "# Remove Baseline Wander"
   ]
  },
  {
   "cell_type": "code",
   "execution_count": 27,
   "id": "a6b72d33-51eb-4a17-94ac-13f73d3f9839",
   "metadata": {},
   "outputs": [],
   "source": [
    "def get_median_filter_width(sampling_rate, duration):\n",
    "    res = int( sampling_rate*duration )\n",
    "    res += ((res%2) - 1) # needs to be an odd number\n",
    "    return res\n",
    "\n",
    "\n",
    "# baseline fitting by filtering\n",
    "# === Define Filtering Params for Baseline fitting Leads======================\n",
    "\n",
    "BASIC_SRATE = 128\n",
    "ms_flt_array = [0.2,0.6]    #<-- length of baseline fitting filters (in seconds)\n",
    "mfa = np.zeros(len(ms_flt_array), dtype='int')\n",
    "for i in range(0, len(ms_flt_array)):\n",
    "    mfa[i] = get_median_filter_width(BASIC_SRATE,ms_flt_array[i])"
   ]
  },
  {
   "cell_type": "code",
   "execution_count": 29,
   "id": "356c922d-313c-4136-a9af-811bbe3ef0c2",
   "metadata": {},
   "outputs": [],
   "source": [
    "def filter_signal(X):\n",
    "    global mfa\n",
    "    X0 = X  #read orignal signal\n",
    "    for mi in range(0,len(mfa)):\n",
    "        X0 = medfilt(X0,mfa[mi]) # apply median filter one by one on top of each other\n",
    "    X0 = np.subtract(X,X0)  # finally subtract from orignal signal\n",
    "    return X0"
   ]
  },
  {
   "cell_type": "code",
   "execution_count": null,
   "id": "ee55663a-d027-4678-931e-c8ade32617cd",
   "metadata": {},
   "outputs": [],
   "source": []
  },
  {
   "cell_type": "code",
   "execution_count": null,
   "id": "f524bb7d-339a-4eff-9d39-4a6319a55d3f",
   "metadata": {},
   "outputs": [],
   "source": []
  },
  {
   "cell_type": "markdown",
   "id": "1deb6398-5c54-4fe7-b1e2-53c41c0040e7",
   "metadata": {},
   "source": [
    "# R peak detect"
   ]
  },
  {
   "cell_type": "code",
   "execution_count": 34,
   "id": "d0da8636-2d33-4c68-b33f-d409b50e70a3",
   "metadata": {},
   "outputs": [],
   "source": [
    "def detect_r_peaks(ecg_segment, fs):\n",
    "    \"\"\"\n",
    "    Uses wfdb's xqrs_detect to find R-peaks (indices).\n",
    "    \"\"\"\n",
    "    qrs_inds = processing.xqrs_detect(ecg_segment, fs=fs, verbose=False)\n",
    "    return qrs_inds"
   ]
  },
  {
   "cell_type": "code",
   "execution_count": 36,
   "id": "ad3276d5-ed04-4aae-9239-7919041f8b45",
   "metadata": {},
   "outputs": [],
   "source": [
    "def extract_hrv_features(rr_intervals):\n",
    "    \"\"\"\n",
    "    Returns a numpy array of the 8 features:\n",
    "      [MeanRR, RMSSD, pNN50, SDRR, CVRR, NN50, MinRR, MaxRR]\n",
    "    \"\"\"\n",
    "    if len(rr_intervals) < 2:\n",
    "        return np.zeros(8)\n",
    "    \n",
    "    mean_rr = np.mean(rr_intervals)\n",
    "    sdrr = np.std(rr_intervals)\n",
    "    \n",
    "    diff_rr = np.diff(rr_intervals)\n",
    "    rmssd = np.sqrt(np.mean(diff_rr**2)) if len(diff_rr) > 0 else 0\n",
    "    \n",
    "    # 50 ms threshold => 0.05 s\n",
    "    threshold = 0.05\n",
    "    nn50 = np.sum(np.abs(diff_rr) > threshold)\n",
    "    pnn50 = (nn50 / len(diff_rr)) * 100 if len(diff_rr) > 0 else 0\n",
    "    \n",
    "    cvrr = sdrr / mean_rr if mean_rr != 0 else 0\n",
    "    min_rr = np.min(rr_intervals)\n",
    "    max_rr = np.max(rr_intervals)\n",
    "    \n",
    "    return np.array([mean_rr, rmssd, pnn50, sdrr, cvrr, nn50, min_rr, max_rr])\n",
    "\n",
    "\n",
    "\n",
    "def compute_rr_intervals(r_peaks, fs):\n",
    "    \"\"\"\n",
    "    Returns array of RR intervals in seconds.\n",
    "    \"\"\"\n",
    "    if len(r_peaks) < 2:\n",
    "        return np.array([])\n",
    "    rr_int = np.diff(r_peaks) / fs\n",
    "    return rr_int"
   ]
  },
  {
   "cell_type": "code",
   "execution_count": null,
   "id": "96fbe94b-527e-4240-b350-8002eaca3f95",
   "metadata": {},
   "outputs": [],
   "source": []
  }
 ],
 "metadata": {
  "kernelspec": {
   "display_name": "Python 3 (ipykernel)",
   "language": "python",
   "name": "python3"
  },
  "language_info": {
   "codemirror_mode": {
    "name": "ipython",
    "version": 3
   },
   "file_extension": ".py",
   "mimetype": "text/x-python",
   "name": "python",
   "nbconvert_exporter": "python",
   "pygments_lexer": "ipython3",
   "version": "3.12.8"
  }
 },
 "nbformat": 4,
 "nbformat_minor": 5
}
